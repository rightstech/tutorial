{
  "nbformat": 4,
  "nbformat_minor": 0,
  "metadata": {
    "colab": {
      "provenance": []
    },
    "kernelspec": {
      "name": "python3",
      "display_name": "Python 3"
    },
    "language_info": {
      "name": "python"
    }
  },
  "cells": [
    {
      "cell_type": "markdown",
      "source": [
        "# **Case Study - Education and Gender Data**"
      ],
      "metadata": {
        "id": "mhyffAYEJvSp"
      }
    },
    {
      "cell_type": "markdown",
      "source": [
        "\n",
        "\n",
        "UNESCO outlines the levels of school education as part of its framework for inclusive and equitable education. It begins with early childhood education, which aims to foster foundational skills and holistic development for children aged 0-8 years. **Primary education** follows, typically for children aged 6-12, providing essential literacy and numeracy skills while promoting lifelong learning. **Lower secondary education** builds on this foundation, offering broader knowledge and skills, and **Upper secondary education**, which prepares students for either higher education or vocational training, leading to the transition to adulthood. Finally, **tertiary education** encompasses post-secondary learning, including universities, colleges, and vocational institutions, offering advanced academic or professional qualifications to prepare individuals for specialized careers.\n",
        "\n",
        "Today, we will examine the completion rates across various education levels for different countries. We will also look into extreme poverty per region and how does income level affects the gender parity in education. Our data source for education data is UNESCO and income data is World Bank.  "
      ],
      "metadata": {
        "id": "moKS64yoMD6h"
      }
    },
    {
      "cell_type": "markdown",
      "source": [
        "# Step 1: A few keywords to understand\n",
        "\n",
        "**Gross Enrolment ratio**: The Gross Enrollment Ratio (GER) is a statistical measure used to determine the total enrollment in a specific education level (such as primary, secondary, or tertiary) regardless of age, expressed as a percentage of the population that corresponds to the official age group for that level of education.\n",
        "A GER above 100% indicates that students older or younger than the typical age group are enrolled.\n",
        "\n",
        "**Extreme Poverty**: Extreme poverty is defined as living on less than $2.15 a day (as per the World Bank's international poverty line), making it difficult to meet basic needs such as food, shelter, and healthcare. It reflects severe deprivation of economic and social resources, impacting individuals' ability to lead a healthy, productive life.\n",
        "\n",
        "**Gender Parity:** Gender parity refers to equal representation and opportunities for all genders, ensuring no gender is disadvantaged in any context. Gender parity is calculated using the Gender Parity Index (GPI), which compares the ratio of female to male participation or completion rates. A GPI of 1 indicates gender parity, values above 1 favor females, and values below 1 favor males."
      ],
      "metadata": {
        "id": "rXF2_2RyGgdD"
      }
    },
    {
      "cell_type": "markdown",
      "source": [
        "# Step 2: Data Understanding\n",
        "\n",
        "The data understanding phase starts with an initial data collection and proceeds with activities in order to get familiar with the data, to identify data quality problems, to discover first insights into the data, or to detect interesting subsets to form hypotheses for hidden information. This step is often mixed with the next step, Data Preparation."
      ],
      "metadata": {
        "id": "e5OfBpBKGsdy"
      }
    },
    {
      "cell_type": "markdown",
      "source": [
        "**Load Data**\n",
        "\n",
        "The first dataset we will use is in gender_data_summary.csv. Make sure the file is in current folder."
      ],
      "metadata": {
        "id": "uSM2KYUDdYB9"
      }
    },
    {
      "cell_type": "markdown",
      "source": [
        "Open the .csv and look through the various columns. It contains countries names and corresponding regions. It includes completion rate (%) for primary, lower secondary, upper secondary and tertiary levels for male, female and both sexes. For economy data, extreme poverty headcount and income group has been provided. Once you have are familiar with the data, you can load the libraries from python and start the data analysis."
      ],
      "metadata": {
        "id": "Mk6tsyBRIfN9"
      }
    },
    {
      "cell_type": "code",
      "source": [
        "# #Uncomment the lines below with CTRL+/ and run the cell.\n",
        "# import pandas as pd\n",
        "# import matplotlib.pyplot as plt\n",
        "# import warnings\n",
        "# warnings.filterwarnings('ignore')\n",
        "# %matplotlib inline"
      ],
      "metadata": {
        "id": "HxD5IFLcdtQH"
      },
      "execution_count": null,
      "outputs": []
    },
    {
      "cell_type": "code",
      "source": [
        "# df_gendata = pd.read_csv('gender_data_summary.csv')\n",
        "# df_gendata.head()"
      ],
      "metadata": {
        "id": "dwBFKE4kejAS"
      },
      "execution_count": null,
      "outputs": []
    },
    {
      "cell_type": "markdown",
      "source": [
        "**Check Data Quality**\n",
        "\n",
        "Check data quality. Most common check is to check missing values or null values."
      ],
      "metadata": {
        "id": "G7OHeXdDe-HW"
      }
    },
    {
      "cell_type": "code",
      "source": [
        "# # Task 1: Check out Basic Dataframe info\n",
        "# df_gendata.info()"
      ],
      "metadata": {
        "id": "BMmNIDT-fASr"
      },
      "execution_count": null,
      "outputs": []
    },
    {
      "cell_type": "code",
      "source": [
        "# #Checking if there are any NA values\n",
        "# df_gendata.isnull().sum()"
      ],
      "metadata": {
        "id": "uHfYq8ywfW-l"
      },
      "execution_count": null,
      "outputs": []
    },
    {
      "cell_type": "code",
      "source": [
        "# #Print the data for line 37 with NA\n",
        "# print(df_gendata.iloc[[37]])"
      ],
      "metadata": {
        "id": "nUBu3S6FNgTQ"
      },
      "execution_count": null,
      "outputs": []
    },
    {
      "cell_type": "code",
      "source": [
        "# # Task 2: Clean up Data, Replace NA with 0.\n",
        "# df_gendata.replace('NA', pd.NA, inplace=True)\n",
        "# df_gendata.fillna(0.0, inplace=True)\n",
        "# print(df_gendata.iloc[[37]])"
      ],
      "metadata": {
        "id": "n0tTo8QMf_KY"
      },
      "execution_count": null,
      "outputs": []
    },
    {
      "cell_type": "code",
      "source": [
        "# #Task 3: Check out statistics of Numeric Columns\n",
        "# df_gendata.describe()"
      ],
      "metadata": {
        "id": "OH0RORaaj9yR"
      },
      "execution_count": null,
      "outputs": []
    },
    {
      "cell_type": "markdown",
      "source": [
        "# Step 3: Plotting the education data"
      ],
      "metadata": {
        "id": "QFgNCal0Lvf-"
      }
    },
    {
      "cell_type": "code",
      "source": [
        "# # Task 4: Plot bar chart for Primary Completion rate for male, female and total for 1 country\n",
        "# country = 'Afghanistan'\n",
        "# country_data = df_gendata[df_gendata['Country'] == country]\n",
        "# primary_male = country_data['Completion rate, primary, male (%)'].values[0]\n",
        "# primary_female = country_data['Completion rate, primary, female (%)'].values[0]\n",
        "# primary_total = country_data['Completion rate, primary, both (%)'].values[0]\n",
        "# #Change the country name to see other country statistics\n",
        "\n",
        "# labels = ['Male', 'Female', 'Total']\n",
        "# primary_values = [primary_male, primary_female, primary_total]\n",
        "\n",
        "# #Plotting \"Completion rate for Primary\" for male, female and total\n",
        "# fig, ax = plt.subplots(figsize=(8, 8))\n",
        "# ax.bar(labels, primary_values)\n",
        "# plt.title(f'Completion rate, primary for {country}')\n",
        "# for i, v in enumerate(primary_values):\n",
        "#     plt.text(i, v + 1, str(round(v, 2)), ha='center', va='bottom')\n",
        "\n",
        "# plt.show()\n"
      ],
      "metadata": {
        "id": "g817xxtNlPxD"
      },
      "execution_count": null,
      "outputs": []
    },
    {
      "cell_type": "markdown",
      "source": [
        "**Source:** UNESCO Institute for Statistics (UIS), 2024.  \n",
        "[Retrieved from UIS SDG 4 Database](https://sdg4-data.uis.unesco.org/)\n"
      ],
      "metadata": {
        "id": "t5Yk1-fjmd0K"
      }
    },
    {
      "cell_type": "code",
      "source": [
        "# #Task 5: Merge the above bar chart with Lower Secondary Completion rate\n",
        "# #for male, female and total for 1 country\n",
        "# lower_sec_male = country_data['Completion rate, lower secondary, male (%)'].values[0]\n",
        "# lower_sec_female = country_data['Completion rate, lower secondary, female (%)'].values[0]\n",
        "# lower_sec_total = country_data['Completion rate, lower secondary, both (%)'].values[0]\n",
        "\n",
        "# # Define lower secondary values for the bar chart\n",
        "# lower_sec_values = [lower_sec_male, lower_sec_female, lower_sec_total]  # Lower secondary data\n",
        "\n",
        "# # Set the width of the bars\n",
        "# bar_width = 0.35\n",
        "\n",
        "# # Create the bar chart\n",
        "# fig, ax = plt.subplots(figsize=(8, 8))\n",
        "# primary_bars = ax.bar(labels, primary_values, bar_width, label='Primary')  # Primary bars\n",
        "# lower_sec_bars = ax.bar([x + bar_width for x in range(len(labels))], lower_sec_values, bar_width, label='Lower Secondary')  # Lower secondary bars (shifted)\n",
        "\n",
        "# # Add labels and title\n",
        "# plt.title(f'Completion Rates for {country}')\n",
        "# plt.xlabel('Gender')\n",
        "# plt.ylabel('Completion Rate (%)')\n",
        "\n",
        "# # Add data labels to the bars\n",
        "# for bar in primary_bars + lower_sec_bars:\n",
        "#     height = bar.get_height()\n",
        "#     x = bar.get_x() + bar.get_width() / 2\n",
        "#     ax.text(x, height + 1, str(round(height, 2)), ha='center', va='bottom')\n",
        "\n",
        "# # Add legend\n",
        "# plt.legend()\n",
        "\n",
        "# # Display the chart\n",
        "# plt.show()\n"
      ],
      "metadata": {
        "id": "bHOjo0DpeR0i"
      },
      "execution_count": null,
      "outputs": []
    },
    {
      "cell_type": "markdown",
      "source": [
        "**Source:** UNESCO Institute for Statistics (UIS), 2024. Retrieved from https://sdg4-data.uis.unesco.org/"
      ],
      "metadata": {
        "id": "xKjy3YXnnZrX"
      }
    },
    {
      "cell_type": "code",
      "source": [
        "# #Task 6: Find the average tertiary Enrolment ratio for the regions and plot as pie chart (both sexes, female).\n",
        "# ## Group data by region and calculate the average tertiary enrollment ratio\n",
        "# region_tertiary_avg = df_gendata.groupby('Region')['Gross Enrolment ratio for tertiary, both (%)'].mean()\n",
        "# region_tertiary_female_avg = df_gendata.groupby('Region')['Gross Enrolment ratio for tertiary, female (%)'].mean()\n",
        "\n",
        "# # Create the first pie chart for region_tertiary_avg\n",
        "# plt.figure(figsize=(4, 4))  # Adjust figure size as needed\n",
        "# plt.pie(region_tertiary_avg, labels=region_tertiary_avg.index, autopct='%1.1f%%', startangle=90)\n",
        "# plt.title('Average Tertiary Enrollment Ratio by Region (both sexes)')\n",
        "\n",
        "# # Create the second pie chart for region_tertiary_female_avg\n",
        "# plt.figure(figsize=(4, 4))  # Adjust figure size as needed\n",
        "# plt.pie(region_tertiary_female_avg, labels=region_tertiary_female_avg.index, autopct='%1.1f%%', startangle=90)\n",
        "# plt.title('Average Tertiary Enrollment Ratio by Region (Female)')\n",
        "\n",
        "# plt.show()"
      ],
      "metadata": {
        "id": "Uk19TjRbfy6m",
        "collapsed": true
      },
      "execution_count": null,
      "outputs": []
    },
    {
      "cell_type": "markdown",
      "source": [
        "# Step 4: Plotting the Extreme Poverty Headcount Ratio"
      ],
      "metadata": {
        "id": "1vV85CgVNMPU"
      }
    },
    {
      "cell_type": "code",
      "source": [
        "# # Task 7: Plot pie chart for Extreme Poverty Headcount Ratio vs region\n",
        "# # Calculating average for Poverty headcount data by region\n",
        "# region_pov_headcount = df_gendata.groupby('Region')['Poverty Headcount Ratio (%)'].mean()\n",
        "\n",
        "# # Create the first pie chart for region_pov_headcount\n",
        "# plt.figure(figsize=(6, 6))  # Adjust figure size as needed\n",
        "# plt.pie(region_pov_headcount, labels=region_pov_headcount.index, autopct='%1.1f%%', startangle=90)\n",
        "# plt.title('Extreme Poverty Headcount Ratio by Region (All)')\n",
        "\n",
        "# plt.show()"
      ],
      "metadata": {
        "id": "XnQl4zWHyiIt"
      },
      "execution_count": null,
      "outputs": []
    },
    {
      "cell_type": "markdown",
      "source": [
        "**Source:** World Bank - Poverty headcount ratio at $2.15 a day (2017 PPP) (% of population), 2024.Retrieved from https://data.worldbank.org/indicator/SI.POV.DDAY?view=chart"
      ],
      "metadata": {
        "id": "QGXLTBTZn6fp"
      }
    },
    {
      "cell_type": "markdown",
      "source": [
        "# Step 5: Plotting Gender Parity vs Income level"
      ],
      "metadata": {
        "id": "m6BF6aPqNfzq"
      }
    },
    {
      "cell_type": "markdown",
      "source": [
        "For tasks 8 and 9, we will use the .csv file, \"gender_parity_income_region.csv\"."
      ],
      "metadata": {
        "id": "Rcdfdkxh881Z"
      }
    },
    {
      "cell_type": "code",
      "source": [
        "# # Task 8: Plot gender parity by income group at the upper secondary level.\n",
        "\n",
        "# # Load the CSV file into a DataFrame\n",
        "# df_income_region = pd.read_csv(\"gender_parity_income_region.csv\")\n",
        "\n",
        "# # Display the first few rows of the DataFrame\n",
        "# print(df_income_region.head())"
      ],
      "metadata": {
        "id": "6YUhn4cEvyrV"
      },
      "execution_count": null,
      "outputs": []
    },
    {
      "cell_type": "code",
      "source": [
        "# # Replace NA values with 0.00\n",
        "# df_income_region[\"value\"] = df_income_region[\"value\"].fillna(0.00)\n",
        "\n",
        "# # Print the last five rows of the new df_income_region DataFrame.\n",
        "# print(df_income_region.tail())"
      ],
      "metadata": {
        "id": "eMsRLJQT2T2S"
      },
      "execution_count": null,
      "outputs": []
    },
    {
      "cell_type": "markdown",
      "source": [
        "Looking at the last five rows of the new dataframe above, we see that there are rows in the dataframe that are tagged with 'region' in the \"region_or_income\" column, even though the id is an income level group, and not a geographical region. Let's change that in our new DataFrame and put \"income group\" in that column, instead of \"region\"."
      ],
      "metadata": {
        "id": "YTNmbDJH7e9p"
      }
    },
    {
      "cell_type": "code",
      "source": [
        "# # Create a list of the names of country income level groups.\n",
        "# income_levels = [\"Low income\", \"Lower middle income\", \"Upper middle income\", \"High income\"]\n",
        "\n",
        "# # Replace values in 'region_or_income' for rows where 'id' is in the income_levels list\n",
        "# df_income_region.loc[df_income_region[\"id\"].isin(income_levels), \"region_or_income\"] = \"income group\"\n",
        "\n",
        "# # Explanation:\n",
        "# # df[\"id\"].isin(income_levels): Checks if the value in the \"id\" column is in the income_levels list.\n",
        "# # .loc[...]: Selects the rows where the condition is True.\n",
        "# # [\"region_or_income\"] = \"income group\": Updates the \"region_or_income\" column for those rows to \"income group\".\n",
        "\n",
        "# # Print a few rows to check the changes\n",
        "# print(df_income_region.tail())"
      ],
      "metadata": {
        "id": "evpArG9L1gGF"
      },
      "execution_count": null,
      "outputs": []
    },
    {
      "cell_type": "markdown",
      "source": [
        "Now, we're going to look at the most recent year available for each income group, to see what is the value for gender parity in the education level of upper secondary school given in this dataset. This will allow us to compare the most recent year available for the different income groups. We don't want the most recent year where the value was zero, so we will remove those years before selecting."
      ],
      "metadata": {
        "id": "FG6jJtJt8o2y"
      }
    },
    {
      "cell_type": "code",
      "source": [
        "# # Filter rows where the 'region_or_income' column says 'income group'\n",
        "# df_income_only = df_income_region[df_income_region[\"region_or_income\"] == \"income group\"]\n",
        "\n",
        "# # Step 1: Remove rows where 'value' is 0.00 **before selecting the latest year**\n",
        "# df_income_only = df_income_only[df_income_only[\"value\"] != 0.00]\n",
        "\n",
        "# # Step 2: Select the most recent year for each income group\n",
        "# parity_by_income_group = df_income_only.loc[df_income_only.groupby(\"id\")[\"year\"].idxmax()]\n",
        "\n",
        "# # Print the result\n",
        "# print(parity_by_income_group)"
      ],
      "metadata": {
        "id": "T7bjoPL328as"
      },
      "execution_count": null,
      "outputs": []
    },
    {
      "cell_type": "markdown",
      "source": [
        "Is parity_by_income_group a new Pandas DataFrame? Yes -- because we used .loc[] to select specific rows from df_income_only, it retains the structure of a DataFrame. You can opt to verify this by running the following line. It will confirm the type of object we have and provide general information about DataFrames."
      ],
      "metadata": {
        "id": "jlarIePp6Dpa"
      }
    },
    {
      "cell_type": "code",
      "source": [
        "# # If you want to check this, you can uncomment and run the next line of code.\n",
        "# type(parity_by_income_group)"
      ],
      "metadata": {
        "id": "LGd5xTNw6Jgu"
      },
      "execution_count": null,
      "outputs": []
    },
    {
      "cell_type": "code",
      "source": [
        "# # Plot the results.\n",
        "# import matplotlib.pyplot as plt\n",
        "# import piplite\n",
        "# await piplite.install('seaborn')\n",
        "# import seaborn as sns\n",
        "\n",
        "# # Set seaborn style for better visuals\n",
        "# sns.set_style(\"whitegrid\")\n",
        "\n",
        "# # Define custom order for the x-axis (income groups)\n",
        "# income_order = [\"Low income\", \"Lower middle income\", \"Upper middle income\", \"High income\"]\n",
        "\n",
        "# # Create the bar plot with custom order for income groups\n",
        "# plt.figure(figsize=(8, 5))  # Set figure size\n",
        "# ax = sns.barplot(\n",
        "#     x=\"id\", y=\"value\", data=parity_by_income_group, palette=\"viridis\", width=0.6,\n",
        "#     order=income_order  # Apply custom order\n",
        "# )\n",
        "\n",
        "# # Add value labels on top of each bar\n",
        "# for p in ax.patches:\n",
        "#     ax.annotate(f\"{p.get_height():.2f}\",  # Format to 2 decimal places\n",
        "#                 (p.get_x() + p.get_width() / 2, p.get_height()),\n",
        "#                 ha=\"center\", va=\"bottom\", fontsize=11, fontweight=\"bold\", color=\"black\")\n",
        "\n",
        "# # Add a horizontal line at 1 to indicate gender parity\n",
        "# plt.axhline(y=1, color=\"red\", linestyle=\"--\", linewidth=1.5, label=\"Gender Parity (1.0)\")\n",
        "\n",
        "# # Customize labels and title\n",
        "# plt.xlabel(\"Income Group\", fontsize=12)\n",
        "# plt.ylabel(\"Gender Parity Index\", fontsize=12)\n",
        "# plt.title(\"Gender Parity by Income Group at Upper Secondary Level\", fontsize=14)\n",
        "\n",
        "# # Rotate x-axis labels for better readability\n",
        "# plt.xticks(rotation=30)\n",
        "\n",
        "# # Add legend\n",
        "# plt.legend()\n",
        "\n",
        "# # Show the plot\n",
        "# plt.show()"
      ],
      "metadata": {
        "id": "PfU354liEEYW"
      },
      "execution_count": null,
      "outputs": []
    },
    {
      "cell_type": "markdown",
      "source": [
        "**Source:** UNESCO World Inequality Database on Education 2024.  \n",
        "Retrieved from https://www.education-progress.org/en/articles/equity"
      ],
      "metadata": {
        "id": "-OuCnyCelxAF"
      }
    },
    {
      "cell_type": "markdown",
      "source": [],
      "metadata": {
        "id": "36JQlTmzlwZv"
      }
    },
    {
      "cell_type": "markdown",
      "source": [
        "Note that these values are for entire income level groups and that individual countries' values will differ. You have the latest available values by country in the first DataFrame we made in an earlier step, from the 'gender_data_summary.csv' file."
      ],
      "metadata": {
        "id": "U6dXA9DOEyx3"
      }
    },
    {
      "cell_type": "code",
      "source": [
        "# # Task 9: Plot gender parity by geographic region at the upper secondary level.\n",
        "# # Filter rows where 'region_or_income' is 'region'\n",
        "# df_region_only = df_income_region[df_income_region[\"region_or_income\"] == \"region\"]\n",
        "\n",
        "# # Step 1: Remove rows where 'value' is 0.00 **before selecting the latest year**\n",
        "# df_region_only = df_region_only[df_region_only[\"value\"] != 0.00]\n",
        "\n",
        "# # Step 2: Select the most recent year for each region\n",
        "# parity_by_geo_region = df_region_only.loc[df_region_only.groupby(\"id\")[\"year\"].idxmax()]\n",
        "\n",
        "# # Print the result\n",
        "# print(parity_by_geo_region)"
      ],
      "metadata": {
        "id": "IzQCdEr1H_z4"
      },
      "execution_count": null,
      "outputs": []
    },
    {
      "cell_type": "code",
      "source": [
        "# # Plot the results\n",

        "\n",
        "# # Create the bar plot\n",
        "# plt.figure(figsize=(10, 6))  # Set figure size in inches\n",
        "# ax = sns.barplot(\n",
        "#     x=\"id\", y=\"value\", data=parity_by_geo_region, palette=\"viridis\", width=0.6\n",
        "# )\n",
        "\n",
        "# # Add value labels on top of each bar\n",
        "# for p in ax.patches:\n",
        "#     ax.annotate(f\"{p.get_height():.2f}\",  # Format to 2 decimal places\n",
        "#                 (p.get_x() + p.get_width() / 2, p.get_height()),\n",
        "#                 ha=\"center\", va=\"bottom\", fontsize=11, fontweight=\"bold\", color=\"black\")\n",
        "\n",
        "# # Add a horizontal line at 1 to indicate gender parity\n",
        "# plt.axhline(y=1, color=\"red\", linestyle=\"--\", linewidth=1.5, label=\"Gender Parity (1.0)\")\n",
        "\n",
        "# # Customize labels and title\n",
        "# plt.xlabel(\"Geographic Region\", fontsize=12)\n",
        "# plt.ylabel(\"Gender Parity Index\", fontsize=12)\n",
        "# plt.title(\"Gender Parity by Geographic Region, Upper Secondary\", fontsize=14)\n",
        "\n",
        "# # Rotate x-axis labels for better readability\n",
        "# plt.xticks(rotation=45)\n",
        "\n",
        "# # Add legend\n",
        "# plt.legend()\n",
        "\n",
        "# # Show the plot\n",
        "# plt.show()"
      ],
      "metadata": {
        "id": "yGnSsakSJu3h"
      },
      "execution_count": null,
      "outputs": []
    },
    {
      "cell_type": "markdown",
      "source": [
        "**Source:** UNESCO World Inequality Database on Education 2024.\n",
        "Retrieved from https://www.education-progress.org/en/articles/equity"
      ],
      "metadata": {
        "id": "rOIabn4hmB8w"
      }
    },
    {
      "cell_type": "markdown",
      "source": [
        "To explore further on your own, you can load and explore the data in the file, \"sdg_sept2024_4.5.1_upper_secondary.csv\", showing a gender parity index for upper secondary education by country (modelled). Source: UNESCO GPIA 2024, available at https://sdg4-data.uis.unesco.org/."
      ],
      "metadata": {
        "id": "hcqdESiirVBk"
      }
    },
    {
      "cell_type": "code",
      "source": [
        "# Follow the steps above starting with loading data.\n",
        "# Write your code here.\n",
        "\n"
      ],
      "metadata": {
        "id": "YSrYaT8lsmJu"
      },
      "execution_count": null,
      "outputs": []
    }
  ]
}
