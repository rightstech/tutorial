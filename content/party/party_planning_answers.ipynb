{
  "nbformat": 4,
  "nbformat_minor": 0,
  "metadata": {
    "colab": {
      "provenance": []
    },
    "kernelspec": {
      "name": "python3",
      "display_name": "Python 3"
    },
    "language_info": {
      "name": "python"
    }
  },
  "cells": [
    {
      "cell_type": "markdown",
      "source": [
        "**Python Bootcamp**\n",
        "\n",
        "In this tutorial, we will learn how to create variables, list and dictonaries. Furthermore, we will import some data and write a code to derive more information out of the data."
      ],
      "metadata": {
        "id": "-6O6b38Zxp2w"
      }
    },
    {
      "cell_type": "markdown",
      "source": [
        "1. Creating Variables\n",
        "Explanation: A variable is where you store a piece of information.\n",
        "Task: Create variables to store the name of your business:(business_name), your hourly rate (hourly_rate), and the number of hours you’ve worked on a party (hours_worked).\n",
        "Practical Use Case: Keep track of your business details and calculate your earnings for planning a specific event."
      ],
      "metadata": {
        "id": "9K3BPhIQrmJJ"
      }
    },
    {
      "cell_type": "code",
      "source": [
        "#Task 1 Code Example\n",
        "# Create variables for your business\n",
        "business_name = \"Party Planners Inc.\" #write the name in quotation marks.\n",
        "hourly_rate = 25.50  # in CHF\n",
        "hours_worked = 4  # in hours\n",
        "\n",
        "# Print the variables to check their values\n",
        "print(business_name)\n",
        "print(hourly_rate)\n",
        "print(hours_worked)"
      ],
      "metadata": {
        "id": "4_0mdoUDzYgF",
        "colab": {
          "base_uri": "https://localhost:8080/"
        },
        "outputId": "02f6ce50-875a-495b-d18b-3134edab89f3"
      },
      "execution_count": null,
      "outputs": [
        {
          "output_type": "stream",
          "name": "stdout",
          "text": [
            "Party Planners Inc.\n",
            "25.5\n",
            "4\n"
          ]
        }
      ]
    },
    {
      "cell_type": "code",
      "execution_count": null,
      "metadata": {
        "id": "hBR1sHP03Imj"
      },
      "outputs": [],
      "source": [
        "# Task 1\n",
        "# Write your Task 1 code here.\n",
        "# Execute this cell by typing CTRL+Enter or CMD+Enter, or press Play"
      ]
    },
    {
      "cell_type": "markdown",
      "source": [
        "2. Data Types: String, Integer, and Float\n",
        "\n",
        "Task: Identify the data types of your variables: business name (string), hourly rate (float), and hours worked (integer). Create a variable total_earnings and calculate it using the formula: hourly_rate * hours_worked.\n",
        "Practical Use Case: Understand how to store and manipulate different types of data in your business calculations."
      ],
      "metadata": {
        "id": "NE_N3f4lrsk5"
      }
    },
    {
      "cell_type": "code",
      "source": [
        "# Task 2 Code Example\n",
        "# Check data types\n",
        "print(type(business_name))  # String\n",
        "print(type(hourly_rate))    # Float\n",
        "print(type(hours_worked))   # Integer\n",
        "\n",
        "# Calculate total earnings\n",
        "total_earnings = hourly_rate * hours_worked\n",
        "print(\"Total earnings:\", total_earnings, \"CHF\") #print items separated by commas"
      ],
      "metadata": {
        "id": "frxaWo5p0b4H",
        "colab": {
          "base_uri": "https://localhost:8080/"
        },
        "outputId": "a6f660cb-0fdf-499e-f19c-3530ff90d0d4"
      },
      "execution_count": null,
      "outputs": [
        {
          "output_type": "stream",
          "name": "stdout",
          "text": [
            "<class 'str'>\n",
            "<class 'float'>\n",
            "<class 'int'>\n",
            "Total earnings: 102.0 CHF\n"
          ]
        }
      ]
    },
    {
      "cell_type": "code",
      "source": [
        "# Task 2\n",
        "# Write your code here."
      ],
      "metadata": {
        "id": "4XkG2k96uNwe"
      },
      "execution_count": null,
      "outputs": []
    },
    {
      "cell_type": "markdown",
      "source": [
        "3. Performing Arithmetic Operations\n",
        "\n",
        "Task: Add, subtract, multiply, and divide to calculate the cost of party supplies. For example, if balloons cost 2.50 CHF each, calculate the total for 20 balloons.\n",
        "Practical Use Case: Budget for supplies and calculate total costs for different items needed for an event."
      ],
      "metadata": {
        "id": "nV6MGM25t863"
      }
    },
    {
      "cell_type": "code",
      "source": [
        "# Task 3 Code Example\n",
        "# Arithmetic operations for party supplies\n",
        "cost_per_balloon = 2.50  # in CHF\n",
        "number_of_balloons = 20\n",
        "\n",
        "total_balloon_cost = cost_per_balloon * number_of_balloons\n",
        "print(\"Total balloon cost:\", total_balloon_cost, \"CHF\")"
      ],
      "metadata": {
        "id": "t0idRPDe0yDG",
        "colab": {
          "base_uri": "https://localhost:8080/"
        },
        "outputId": "7aa1467d-d5cf-43c0-fad6-03ec255d78de"
      },
      "execution_count": null,
      "outputs": [
        {
          "output_type": "stream",
          "name": "stdout",
          "text": [
            "Total balloon cost: 50.0 CHF\n"
          ]
        }
      ]
    },
    {
      "cell_type": "code",
      "source": [
        "# Task 3\n",
        "# Write your code here."
      ],
      "metadata": {
        "id": "vUJwuUVLuRpV"
      },
      "execution_count": null,
      "outputs": []
    },
    {
      "cell_type": "markdown",
      "source": [
        "4. Converting Data Types\n",
        "\n",
        "Task: Convert a float (hourly_rate) into an integer to create a flat-rate pricing model. Then convert the integer back into a float to return to hourly billing.\n",
        "Practical Use Case: Adjust pricing models to meet client needs."
      ],
      "metadata": {
        "id": "5Q5VMJPKt8Le"
      }
    },
    {
      "cell_type": "code",
      "source": [
        "# Task 4 Code Example\n",
        "# Convert hourly rate to an integer\n",
        "flat_rate = int(hourly_rate)\n",
        "print(\"Flat rate:\", flat_rate, \"CHF\")\n",
        "\n",
        "# Convert back to a float\n",
        "hourly_rate = float(flat_rate)\n",
        "print(\"Hourly rate restored:\", hourly_rate, \"CHF\")"
      ],
      "metadata": {
        "id": "ffXxoffB1nhf",
        "colab": {
          "base_uri": "https://localhost:8080/"
        },
        "outputId": "3a69e1ff-b975-4143-88c2-4e2246052971"
      },
      "execution_count": null,
      "outputs": [
        {
          "output_type": "stream",
          "name": "stdout",
          "text": [
            "Flat rate: 25 CHF\n",
            "Hourly rate restored: 25.0 CHF\n"
          ]
        }
      ]
    },
    {
      "cell_type": "code",
      "source": [
        "# Task 4\n",
        "# Write your code here."
      ],
      "metadata": {
        "id": "D6IkCDSKuf__"
      },
      "execution_count": null,
      "outputs": []
    },
    {
      "cell_type": "markdown",
      "source": [
        "5. Creating and Modifying a List\n",
        "\n",
        "Task: Create a list called party_supplies that includes items like “balloons,” “plates,” and “napkins.” Add an item to the list (e.g., “streamers”) and remove an item (e.g., “napkins”).\n",
        "Practical Use Case: Keep track of the supplies needed for a party and update the list as you plan."
      ],
      "metadata": {
        "id": "qcQuG16nurQ2"
      }
    },
    {
      "cell_type": "code",
      "source": [
        "# Task 5 Code Example\n",
        "# Create and modify a list of party supplies\n",
        "party_supplies = [\"balloons\", \"plates\", \"napkins\"] #Write list in sq. brackets.\n",
        "print(\"Original list:\", party_supplies)\n",
        "\n",
        "# Add an item\n",
        "party_supplies.append(\"streamers\")\n",
        "print(\"After adding streamers:\", party_supplies)\n",
        "\n",
        "# Remove an item\n",
        "party_supplies.remove(\"napkins\")\n",
        "print(\"After removing napkins:\", party_supplies)"
      ],
      "metadata": {
        "id": "Cuz-JOn-2q0x",
        "colab": {
          "base_uri": "https://localhost:8080/"
        },
        "outputId": "0a53e54a-8901-4072-aacf-0160483abf9a"
      },
      "execution_count": null,
      "outputs": [
        {
          "output_type": "stream",
          "name": "stdout",
          "text": [
            "Original list: ['balloons', 'plates', 'napkins']\n",
            "After adding streamers: ['balloons', 'plates', 'napkins', 'streamers']\n",
            "After removing napkins: ['balloons', 'plates', 'streamers']\n"
          ]
        }
      ]
    },
    {
      "cell_type": "code",
      "source": [
        "# Task 5\n",
        "# Write your code here."
      ],
      "metadata": {
        "id": "u9AFIfUnu1_W"
      },
      "execution_count": null,
      "outputs": []
    },
    {
      "cell_type": "markdown",
      "source": [
        "6. Accessing and Manipulating a List\n",
        "\n",
        "Task: Access the first item in the party_supplies list and replace it with “custom invitations.” Print the updated list.\n",
        "Practical Use Case: Customize the supply list based on the client’s preferences."
      ],
      "metadata": {
        "id": "onq_TLkTuMXm"
      }
    },
    {
      "cell_type": "code",
      "source": [
        "# Task 6 Code Example\n",
        "# Access and modify items in the list\n",
        "party_supplies[0] = \"custom invitations\" #Index starts at 0.\n",
        "print(\"Updated list:\", party_supplies)"
      ],
      "metadata": {
        "id": "76SlnJK93O6q",
        "colab": {
          "base_uri": "https://localhost:8080/"
        },
        "outputId": "19ecd803-cdca-422e-b8cf-44e379c4abbf"
      },
      "execution_count": null,
      "outputs": [
        {
          "output_type": "stream",
          "name": "stdout",
          "text": [
            "Updated list: ['custom invitations', 'plates', 'streamers']\n"
          ]
        }
      ]
    },
    {
      "cell_type": "code",
      "source": [
        "# Task 6\n",
        "# Write your code here."
      ],
      "metadata": {
        "id": "7g2V2585wbEa"
      },
      "execution_count": null,
      "outputs": []
    },
    {
      "cell_type": "markdown",
      "source": [
        "7. Creating a Dictionary\n",
        "\n",
        "Task: Create a dictionary called guest_list with guest names as keys and their RSVP status as values (e.g., {\"Aisha\": \"Yes\", \"Bob\": \"No\", \"Chen\": \"Yes\"}).\n",
        "Practical Use Case: Track RSVP statuses for events."
      ],
      "metadata": {
        "id": "X5gL9wbrwg4I"
      }
    },
    {
      "cell_type": "code",
      "source": [
        "# Task 7 Code Example\n",
        "# Create a dictionary of guests and their RSVP status. Use curly brackets and ,\n",
        "guest_list = {\n",
        "    \"Aisha\": \"Yes\",\n",
        "    \"Bob\": \"No\",\n",
        "    \"Chen\": \"Yes\"\n",
        "}\n",
        "print(\"Guest list:\", guest_list)"
      ],
      "metadata": {
        "id": "On2fCUbn5-Nc",
        "colab": {
          "base_uri": "https://localhost:8080/"
        },
        "outputId": "3f00cc7a-6233-42bd-b787-f5409c8c6783"
      },
      "execution_count": null,
      "outputs": [
        {
          "output_type": "stream",
          "name": "stdout",
          "text": [
            "Guest list: {'Aisha': 'Yes', 'Bob': 'No', 'Chen': 'Yes'}\n"
          ]
        }
      ]
    },
    {
      "cell_type": "code",
      "source": [
        "# Task 7\n",
        "# Write your code here."
      ],
      "metadata": {
        "id": "L5jMJgUGxKcE"
      },
      "execution_count": null,
      "outputs": []
    },
    {
      "cell_type": "markdown",
      "source": [
        "8. Manipulating a Dictionary\n",
        "\n",
        "Task: Update the RSVP status of a guest (e.g., change “Bob” to “Yes”), and add a new guest to the dictionary.\n",
        "Practical Use Case: Keep the guest list up to date as RSVPs change."
      ],
      "metadata": {
        "id": "yM_9tZPdxNJS"
      }
    },
    {
      "cell_type": "code",
      "source": [
        "# Task 8 Code Example\n",
        "# Update and add to the guest list\n",
        "guest_list[\"Bob\"] = \"Yes\"  # Update Bob's RSVP\n",
        "guest_list[\"Diana\"] = \"Yes\"  # Add a new guest\n",
        "print(\"Updated guest list:\", guest_list)"
      ],
      "metadata": {
        "id": "El1QvSql6kk2",
        "colab": {
          "base_uri": "https://localhost:8080/"
        },
        "outputId": "ee8da746-50c1-4040-95e1-6c515b5feca5"
      },
      "execution_count": null,
      "outputs": [
        {
          "output_type": "stream",
          "name": "stdout",
          "text": [
            "Updated guest list: {'Aisha': 'Yes', 'Bob': 'Yes', 'Chen': 'Yes', 'Diana': 'Yes'}\n"
          ]
        }
      ]
    },
    {
      "cell_type": "code",
      "source": [
        "# Task 8\n",
        "# Write your code here."
      ],
      "metadata": {
        "id": "2nYetEySxfW1"
      },
      "execution_count": null,
      "outputs": []
    },
    {
      "cell_type": "markdown",
      "source": [
        "9. Using String Formatting\n",
        "\n",
        "Task: Create a message template for sending reminders to guests. Use string formatting to include each guest's name and a customized RSVP message (e.g., “Hi Aisha, just a reminder that you’ve RSVP’d ‘Yes’ for the party!”).\n",
        "Practical Use Case: Send personalized messages to clients or guests."
      ],
      "metadata": {
        "id": "241FsXsAxhta"
      }
    },
    {
      "cell_type": "code",
      "source": [
        "# Task 9 Code Example\n",
        "# String formatting for personalized messages\n",
        "for guest, rsvp in guest_list.items():\n",
        "    message = f\"Hi {guest}, just a reminder that you’ve RSVP’d ‘{rsvp}’ for the party!\"\n",
        "    print(message)"
      ],
      "metadata": {
        "id": "auv7kJVS7o6H",
        "colab": {
          "base_uri": "https://localhost:8080/"
        },
        "outputId": "f2ca782c-0708-4670-ab2f-323f11ac8050"
      },
      "execution_count": null,
      "outputs": [
        {
          "output_type": "stream",
          "name": "stdout",
          "text": [
            "Hi Aisha, just a reminder that you’ve RSVP’d ‘Yes’ for the party!\n",
            "Hi Bob, just a reminder that you’ve RSVP’d ‘Yes’ for the party!\n",
            "Hi Chen, just a reminder that you’ve RSVP’d ‘Yes’ for the party!\n",
            "Hi Diana, just a reminder that you’ve RSVP’d ‘Yes’ for the party!\n"
          ]
        }
      ]
    },
    {
      "cell_type": "code",
      "source": [
        "# Task 9\n",
        "# Write your code here."
      ],
      "metadata": {
        "id": "Woo5EfrbxvX8"
      },
      "execution_count": null,
      "outputs": []
    },
    {
      "cell_type": "markdown",
      "source": [
        "10. Combining Everything in a Mini-Project\n",
        "\n",
        "Task: Use everything you’ve learned to calculate the total event cost for a client. Combine the hourly_rate, hours_worked, and the total cost of supplies (use a list to store the costs of supplies) to calculate the total_event_cost. Print a summary for the client with their event details.\n",
        "Practical Use Case: Provide clients with a professional cost breakdown for their event."
      ],
      "metadata": {
        "id": "S21l5e1gxz2E"
      }
    },
    {
      "cell_type": "code",
      "source": [
        "# Task 10 Code Example\n",
        "# Calculate total event cost\n",
        "supply_costs = [50, 20, 15]  # Example costs for decorations, food, and drinks in CHF\n",
        "total_supply_cost = sum(supply_costs)\n",
        "\n",
        "total_event_cost = (hourly_rate * hours_worked) + total_supply_cost\n",
        "print(f\"Client Summary:\\n- Total Event Cost: {total_event_cost} CHF\\n- Hourly Rate: {hourly_rate} CHF\\n- Supplies Cost: {total_supply_cost} CHF\")"
      ],
      "metadata": {
        "id": "KdEJm99I8I_2",
        "colab": {
          "base_uri": "https://localhost:8080/"
        },
        "outputId": "4d8f8759-3ced-4243-8f3c-c3255fbf10ab"
      },
      "execution_count": null,
      "outputs": [
        {
          "output_type": "stream",
          "name": "stdout",
          "text": [
            "Client Summary:\n",
            "- Total Event Cost: 185.0 CHF\n",
            "- Hourly Rate: 25.0 CHF\n",
            "- Supplies Cost: 85 CHF\n"
          ]
        }
      ]
    },
    {
      "cell_type": "code",
      "source": [
        "# Task 10\n",
        "# Write your code here."
      ],
      "metadata": {
        "id": "moqPuvyz8FF_"
      },
      "execution_count": null,
      "outputs": []
    },
    {
      "cell_type": "markdown",
      "source": [
        "Continuing the party planner problem statement, now we need to import the data and do our own calculations. You have a form on your website, with questions you utilize to generate a quotation for the party. You get the data as a csv file called \"party_data.csv\" every week. We will write a small program to make the calculations automatically\n",
        "\n",
        "\n",
        "\n"
      ],
      "metadata": {
        "id": "KCG9KPFLwp3q"
      }
    },
    {
      "cell_type": "code",
      "source": [
        "#Import the required libraries\n",
        "import pandas as pd"
      ],
      "metadata": {
        "id": "thpmqiHOwkLI"
      },
      "execution_count": null,
      "outputs": []
    },
    {
      "cell_type": "code",
      "source": [
        "#Make sure you add the \"party_data.csv\" file to the current files\n",
        "#Go to Files in left taskbar and upload the file\n",
        "#Add the data from \"party_data.csv\" file\n",
        "df_party = pd.read_csv('party_data.csv')\n",
        "df_party.head()"
      ],
      "metadata": {
        "id": "7In2yRN9w7Hi",
        "colab": {
          "base_uri": "https://localhost:8080/",
          "height": 452
        },
        "outputId": "59840889-b722-4f61-ae52-026b5e17ae04"
      },
      "execution_count": null,
      "outputs": [
        {
          "output_type": "execute_result",
          "data": {
            "text/plain": [
              "    Name         Party Date                Cake  Invitees Return Gift  \\\n",
              "0  Lucas     21 August 2025           Chocolate        20         Yes   \n",
              "1  Maria       14 July 2025             Vanilla        15         Yes   \n",
              "2  Ahmed        1 June 2025        Tarte citron        12          No   \n",
              "3  Sofia   1 September 2025          Strawberry        18         Yes   \n",
              "4  Kenzo  11 September 2025  Tarte aux pruneaux        10         Yes   \n",
              "\n",
              "   Cost of Return Gift (CHF) Allergies Accessibility Needs RSVP Completed  \\\n",
              "0                        5.0       NaN                 NaN            Yes   \n",
              "1                        4.5    Gluten                 NaN            Yes   \n",
              "2                        0.0      Nuts   Wheelchair Access             No   \n",
              "3                        6.0     Dairy                 NaN            Yes   \n",
              "4                        7.0       NaN                 NaN            Yes   \n",
              "\n",
              "        RSVP Date Party Preference  \n",
              "0  14 August 2025          Outdoor  \n",
              "1     7 July 2025           Indoor  \n",
              "2    25 June 2025           Indoor  \n",
              "3  30 August 2025          Outdoor  \n",
              "4     20 May 2025           Indoor  "
            ],
            "text/html": [
              "\n",
              "  <div id=\"df-3bb50dbd-f770-4917-af79-f4fec9159508\" class=\"colab-df-container\">\n",
              "    <div>\n",
              "<style scoped>\n",
              "    .dataframe tbody tr th:only-of-type {\n",
              "        vertical-align: middle;\n",
              "    }\n",
              "\n",
              "    .dataframe tbody tr th {\n",
              "        vertical-align: top;\n",
              "    }\n",
              "\n",
              "    .dataframe thead th {\n",
              "        text-align: right;\n",
              "    }\n",
              "</style>\n",
              "<table border=\"1\" class=\"dataframe\">\n",
              "  <thead>\n",
              "    <tr style=\"text-align: right;\">\n",
              "      <th></th>\n",
              "      <th>Name</th>\n",
              "      <th>Party Date</th>\n",
              "      <th>Cake</th>\n",
              "      <th>Invitees</th>\n",
              "      <th>Return Gift</th>\n",
              "      <th>Cost of Return Gift (CHF)</th>\n",
              "      <th>Allergies</th>\n",
              "      <th>Accessibility Needs</th>\n",
              "      <th>RSVP Completed</th>\n",
              "      <th>RSVP Date</th>\n",
              "      <th>Party Preference</th>\n",
              "    </tr>\n",
              "  </thead>\n",
              "  <tbody>\n",
              "    <tr>\n",
              "      <th>0</th>\n",
              "      <td>Lucas</td>\n",
              "      <td>21 August 2025</td>\n",
              "      <td>Chocolate</td>\n",
              "      <td>20</td>\n",
              "      <td>Yes</td>\n",
              "      <td>5.0</td>\n",
              "      <td>NaN</td>\n",
              "      <td>NaN</td>\n",
              "      <td>Yes</td>\n",
              "      <td>14 August 2025</td>\n",
              "      <td>Outdoor</td>\n",
              "    </tr>\n",
              "    <tr>\n",
              "      <th>1</th>\n",
              "      <td>Maria</td>\n",
              "      <td>14 July 2025</td>\n",
              "      <td>Vanilla</td>\n",
              "      <td>15</td>\n",
              "      <td>Yes</td>\n",
              "      <td>4.5</td>\n",
              "      <td>Gluten</td>\n",
              "      <td>NaN</td>\n",
              "      <td>Yes</td>\n",
              "      <td>7 July 2025</td>\n",
              "      <td>Indoor</td>\n",
              "    </tr>\n",
              "    <tr>\n",
              "      <th>2</th>\n",
              "      <td>Ahmed</td>\n",
              "      <td>1 June 2025</td>\n",
              "      <td>Tarte citron</td>\n",
              "      <td>12</td>\n",
              "      <td>No</td>\n",
              "      <td>0.0</td>\n",
              "      <td>Nuts</td>\n",
              "      <td>Wheelchair Access</td>\n",
              "      <td>No</td>\n",
              "      <td>25 June 2025</td>\n",
              "      <td>Indoor</td>\n",
              "    </tr>\n",
              "    <tr>\n",
              "      <th>3</th>\n",
              "      <td>Sofia</td>\n",
              "      <td>1 September 2025</td>\n",
              "      <td>Strawberry</td>\n",
              "      <td>18</td>\n",
              "      <td>Yes</td>\n",
              "      <td>6.0</td>\n",
              "      <td>Dairy</td>\n",
              "      <td>NaN</td>\n",
              "      <td>Yes</td>\n",
              "      <td>30 August 2025</td>\n",
              "      <td>Outdoor</td>\n",
              "    </tr>\n",
              "    <tr>\n",
              "      <th>4</th>\n",
              "      <td>Kenzo</td>\n",
              "      <td>11 September 2025</td>\n",
              "      <td>Tarte aux pruneaux</td>\n",
              "      <td>10</td>\n",
              "      <td>Yes</td>\n",
              "      <td>7.0</td>\n",
              "      <td>NaN</td>\n",
              "      <td>NaN</td>\n",
              "      <td>Yes</td>\n",
              "      <td>20 May 2025</td>\n",
              "      <td>Indoor</td>\n",
              "    </tr>\n",
              "  </tbody>\n",
              "</table>\n",
              "</div>\n",
              "    <div class=\"colab-df-buttons\">\n",
              "\n",
              "  <div class=\"colab-df-container\">\n",
              "    <button class=\"colab-df-convert\" onclick=\"convertToInteractive('df-3bb50dbd-f770-4917-af79-f4fec9159508')\"\n",
              "            title=\"Convert this dataframe to an interactive table.\"\n",
              "            style=\"display:none;\">\n",
              "\n",
              "  <svg xmlns=\"http://www.w3.org/2000/svg\" height=\"24px\" viewBox=\"0 -960 960 960\">\n",
              "    <path d=\"M120-120v-720h720v720H120Zm60-500h600v-160H180v160Zm220 220h160v-160H400v160Zm0 220h160v-160H400v160ZM180-400h160v-160H180v160Zm440 0h160v-160H620v160ZM180-180h160v-160H180v160Zm440 0h160v-160H620v160Z\"/>\n",
              "  </svg>\n",
              "    </button>\n",
              "\n",
              "  <style>\n",
              "    .colab-df-container {\n",
              "      display:flex;\n",
              "      gap: 12px;\n",
              "    }\n",
              "\n",
              "    .colab-df-convert {\n",
              "      background-color: #E8F0FE;\n",
              "      border: none;\n",
              "      border-radius: 50%;\n",
              "      cursor: pointer;\n",
              "      display: none;\n",
              "      fill: #1967D2;\n",
              "      height: 32px;\n",
              "      padding: 0 0 0 0;\n",
              "      width: 32px;\n",
              "    }\n",
              "\n",
              "    .colab-df-convert:hover {\n",
              "      background-color: #E2EBFA;\n",
              "      box-shadow: 0px 1px 2px rgba(60, 64, 67, 0.3), 0px 1px 3px 1px rgba(60, 64, 67, 0.15);\n",
              "      fill: #174EA6;\n",
              "    }\n",
              "\n",
              "    .colab-df-buttons div {\n",
              "      margin-bottom: 4px;\n",
              "    }\n",
              "\n",
              "    [theme=dark] .colab-df-convert {\n",
              "      background-color: #3B4455;\n",
              "      fill: #D2E3FC;\n",
              "    }\n",
              "\n",
              "    [theme=dark] .colab-df-convert:hover {\n",
              "      background-color: #434B5C;\n",
              "      box-shadow: 0px 1px 3px 1px rgba(0, 0, 0, 0.15);\n",
              "      filter: drop-shadow(0px 1px 2px rgba(0, 0, 0, 0.3));\n",
              "      fill: #FFFFFF;\n",
              "    }\n",
              "  </style>\n",
              "\n",
              "    <script>\n",
              "      const buttonEl =\n",
              "        document.querySelector('#df-3bb50dbd-f770-4917-af79-f4fec9159508 button.colab-df-convert');\n",
              "      buttonEl.style.display =\n",
              "        google.colab.kernel.accessAllowed ? 'block' : 'none';\n",
              "\n",
              "      async function convertToInteractive(key) {\n",
              "        const element = document.querySelector('#df-3bb50dbd-f770-4917-af79-f4fec9159508');\n",
              "        const dataTable =\n",
              "          await google.colab.kernel.invokeFunction('convertToInteractive',\n",
              "                                                    [key], {});\n",
              "        if (!dataTable) return;\n",
              "\n",
              "        const docLinkHtml = 'Like what you see? Visit the ' +\n",
              "          '<a target=\"_blank\" href=https://colab.research.google.com/notebooks/data_table.ipynb>data table notebook</a>'\n",
              "          + ' to learn more about interactive tables.';\n",
              "        element.innerHTML = '';\n",
              "        dataTable['output_type'] = 'display_data';\n",
              "        await google.colab.output.renderOutput(dataTable, element);\n",
              "        const docLink = document.createElement('div');\n",
              "        docLink.innerHTML = docLinkHtml;\n",
              "        element.appendChild(docLink);\n",
              "      }\n",
              "    </script>\n",
              "  </div>\n",
              "\n",
              "\n",
              "<div id=\"df-f00336d8-904f-4295-890d-6c31f0ee69de\">\n",
              "  <button class=\"colab-df-quickchart\" onclick=\"quickchart('df-f00336d8-904f-4295-890d-6c31f0ee69de')\"\n",
              "            title=\"Suggest charts\"\n",
              "            style=\"display:none;\">\n",
              "\n",
              "<svg xmlns=\"http://www.w3.org/2000/svg\" height=\"24px\"viewBox=\"0 0 24 24\"\n",
              "     width=\"24px\">\n",
              "    <g>\n",
              "        <path d=\"M19 3H5c-1.1 0-2 .9-2 2v14c0 1.1.9 2 2 2h14c1.1 0 2-.9 2-2V5c0-1.1-.9-2-2-2zM9 17H7v-7h2v7zm4 0h-2V7h2v10zm4 0h-2v-4h2v4z\"/>\n",
              "    </g>\n",
              "</svg>\n",
              "  </button>\n",
              "\n",
              "<style>\n",
              "  .colab-df-quickchart {\n",
              "      --bg-color: #E8F0FE;\n",
              "      --fill-color: #1967D2;\n",
              "      --hover-bg-color: #E2EBFA;\n",
              "      --hover-fill-color: #174EA6;\n",
              "      --disabled-fill-color: #AAA;\n",
              "      --disabled-bg-color: #DDD;\n",
              "  }\n",
              "\n",
              "  [theme=dark] .colab-df-quickchart {\n",
              "      --bg-color: #3B4455;\n",
              "      --fill-color: #D2E3FC;\n",
              "      --hover-bg-color: #434B5C;\n",
              "      --hover-fill-color: #FFFFFF;\n",
              "      --disabled-bg-color: #3B4455;\n",
              "      --disabled-fill-color: #666;\n",
              "  }\n",
              "\n",
              "  .colab-df-quickchart {\n",
              "    background-color: var(--bg-color);\n",
              "    border: none;\n",
              "    border-radius: 50%;\n",
              "    cursor: pointer;\n",
              "    display: none;\n",
              "    fill: var(--fill-color);\n",
              "    height: 32px;\n",
              "    padding: 0;\n",
              "    width: 32px;\n",
              "  }\n",
              "\n",
              "  .colab-df-quickchart:hover {\n",
              "    background-color: var(--hover-bg-color);\n",
              "    box-shadow: 0 1px 2px rgba(60, 64, 67, 0.3), 0 1px 3px 1px rgba(60, 64, 67, 0.15);\n",
              "    fill: var(--button-hover-fill-color);\n",
              "  }\n",
              "\n",
              "  .colab-df-quickchart-complete:disabled,\n",
              "  .colab-df-quickchart-complete:disabled:hover {\n",
              "    background-color: var(--disabled-bg-color);\n",
              "    fill: var(--disabled-fill-color);\n",
              "    box-shadow: none;\n",
              "  }\n",
              "\n",
              "  .colab-df-spinner {\n",
              "    border: 2px solid var(--fill-color);\n",
              "    border-color: transparent;\n",
              "    border-bottom-color: var(--fill-color);\n",
              "    animation:\n",
              "      spin 1s steps(1) infinite;\n",
              "  }\n",
              "\n",
              "  @keyframes spin {\n",
              "    0% {\n",
              "      border-color: transparent;\n",
              "      border-bottom-color: var(--fill-color);\n",
              "      border-left-color: var(--fill-color);\n",
              "    }\n",
              "    20% {\n",
              "      border-color: transparent;\n",
              "      border-left-color: var(--fill-color);\n",
              "      border-top-color: var(--fill-color);\n",
              "    }\n",
              "    30% {\n",
              "      border-color: transparent;\n",
              "      border-left-color: var(--fill-color);\n",
              "      border-top-color: var(--fill-color);\n",
              "      border-right-color: var(--fill-color);\n",
              "    }\n",
              "    40% {\n",
              "      border-color: transparent;\n",
              "      border-right-color: var(--fill-color);\n",
              "      border-top-color: var(--fill-color);\n",
              "    }\n",
              "    60% {\n",
              "      border-color: transparent;\n",
              "      border-right-color: var(--fill-color);\n",
              "    }\n",
              "    80% {\n",
              "      border-color: transparent;\n",
              "      border-right-color: var(--fill-color);\n",
              "      border-bottom-color: var(--fill-color);\n",
              "    }\n",
              "    90% {\n",
              "      border-color: transparent;\n",
              "      border-bottom-color: var(--fill-color);\n",
              "    }\n",
              "  }\n",
              "</style>\n",
              "\n",
              "  <script>\n",
              "    async function quickchart(key) {\n",
              "      const quickchartButtonEl =\n",
              "        document.querySelector('#' + key + ' button');\n",
              "      quickchartButtonEl.disabled = true;  // To prevent multiple clicks.\n",
              "      quickchartButtonEl.classList.add('colab-df-spinner');\n",
              "      try {\n",
              "        const charts = await google.colab.kernel.invokeFunction(\n",
              "            'suggestCharts', [key], {});\n",
              "      } catch (error) {\n",
              "        console.error('Error during call to suggestCharts:', error);\n",
              "      }\n",
              "      quickchartButtonEl.classList.remove('colab-df-spinner');\n",
              "      quickchartButtonEl.classList.add('colab-df-quickchart-complete');\n",
              "    }\n",
              "    (() => {\n",
              "      let quickchartButtonEl =\n",
              "        document.querySelector('#df-f00336d8-904f-4295-890d-6c31f0ee69de button');\n",
              "      quickchartButtonEl.style.display =\n",
              "        google.colab.kernel.accessAllowed ? 'block' : 'none';\n",
              "    })();\n",
              "  </script>\n",
              "</div>\n",
              "\n",
              "    </div>\n",
              "  </div>\n"
            ],
            "application/vnd.google.colaboratory.intrinsic+json": {
              "type": "dataframe",
              "variable_name": "df_party",
              "summary": "{\n  \"name\": \"df_party\",\n  \"rows\": 10,\n  \"fields\": [\n    {\n      \"column\": \"Name\",\n      \"properties\": {\n        \"dtype\": \"string\",\n        \"num_unique_values\": 10,\n        \"samples\": [\n          \"Mateo\",\n          \"Maria\",\n          \"Chloe\"\n        ],\n        \"semantic_type\": \"\",\n        \"description\": \"\"\n      }\n    },\n    {\n      \"column\": \"Party Date\",\n      \"properties\": {\n        \"dtype\": \"object\",\n        \"num_unique_values\": 9,\n        \"samples\": [\n          \"5 June 2025\",\n          \"14 July 2025\",\n          \"22 June 2025\"\n        ],\n        \"semantic_type\": \"\",\n        \"description\": \"\"\n      }\n    },\n    {\n      \"column\": \"Cake\",\n      \"properties\": {\n        \"dtype\": \"string\",\n        \"num_unique_values\": 7,\n        \"samples\": [\n          \"Chocolate\",\n          \"Vanilla\",\n          \"Cheesecake\"\n        ],\n        \"semantic_type\": \"\",\n        \"description\": \"\"\n      }\n    },\n    {\n      \"column\": \"Invitees\",\n      \"properties\": {\n        \"dtype\": \"number\",\n        \"std\": 4,\n        \"min\": 10,\n        \"max\": 25,\n        \"num_unique_values\": 10,\n        \"samples\": [\n          13,\n          15,\n          22\n        ],\n        \"semantic_type\": \"\",\n        \"description\": \"\"\n      }\n    },\n    {\n      \"column\": \"Return Gift\",\n      \"properties\": {\n        \"dtype\": \"category\",\n        \"num_unique_values\": 2,\n        \"samples\": [\n          \"No\",\n          \"Yes\"\n        ],\n        \"semantic_type\": \"\",\n        \"description\": \"\"\n      }\n    },\n    {\n      \"column\": \"Cost of Return Gift (CHF)\",\n      \"properties\": {\n        \"dtype\": \"number\",\n        \"std\": 2.543510260337954,\n        \"min\": 0.0,\n        \"max\": 7.0,\n        \"num_unique_values\": 6,\n        \"samples\": [\n          5.0,\n          4.5\n        ],\n        \"semantic_type\": \"\",\n        \"description\": \"\"\n      }\n    },\n    {\n      \"column\": \"Allergies\",\n      \"properties\": {\n        \"dtype\": \"category\",\n        \"num_unique_values\": 3,\n        \"samples\": [\n          \"Gluten\",\n          \"Nuts\"\n        ],\n        \"semantic_type\": \"\",\n        \"description\": \"\"\n      }\n    },\n    {\n      \"column\": \"Accessibility Needs\",\n      \"properties\": {\n        \"dtype\": \"category\",\n        \"num_unique_values\": 3,\n        \"samples\": [\n          \"Wheelchair Access\",\n          \"Vegan\"\n        ],\n        \"semantic_type\": \"\",\n        \"description\": \"\"\n      }\n    },\n    {\n      \"column\": \"RSVP Completed\",\n      \"properties\": {\n        \"dtype\": \"category\",\n        \"num_unique_values\": 2,\n        \"samples\": [\n          \"No\",\n          \"Yes\"\n        ],\n        \"semantic_type\": \"\",\n        \"description\": \"\"\n      }\n    },\n    {\n      \"column\": \"RSVP Date\",\n      \"properties\": {\n        \"dtype\": \"object\",\n        \"num_unique_values\": 10,\n        \"samples\": [\n          \"1 July 2025\",\n          \"7 July 2025\"\n        ],\n        \"semantic_type\": \"\",\n        \"description\": \"\"\n      }\n    },\n    {\n      \"column\": \"Party Preference\",\n      \"properties\": {\n        \"dtype\": \"category\",\n        \"num_unique_values\": 2,\n        \"samples\": [\n          \"Indoor\",\n          \"Outdoor\"\n        ],\n        \"semantic_type\": \"\",\n        \"description\": \"\"\n      }\n    }\n  ]\n}"
            }
          },
          "metadata": {},
          "execution_count": 20
        }
      ]
    },
    {
      "cell_type": "code",
      "source": [
        "#Check the data\n",
        "df_party.info()"
      ],
      "metadata": {
        "id": "oah4C6tdw72s",
        "colab": {
          "base_uri": "https://localhost:8080/"
        },
        "outputId": "1c5d28b6-2dd9-4b5d-b757-ebcfbae2fd34"
      },
      "execution_count": null,
      "outputs": [
        {
          "output_type": "stream",
          "name": "stdout",
          "text": [
            "<class 'pandas.core.frame.DataFrame'>\n",
            "RangeIndex: 10 entries, 0 to 9\n",
            "Data columns (total 11 columns):\n",
            " #   Column                     Non-Null Count  Dtype  \n",
            "---  ------                     --------------  -----  \n",
            " 0   Name                       10 non-null     object \n",
            " 1   Party Date                 10 non-null     object \n",
            " 2   Cake                       10 non-null     object \n",
            " 3   Invitees                   10 non-null     int64  \n",
            " 4   Return Gift                10 non-null     object \n",
            " 5   Cost of Return Gift (CHF)  10 non-null     float64\n",
            " 6   Allergies                  5 non-null      object \n",
            " 7   Accessibility Needs        3 non-null      object \n",
            " 8   RSVP Completed             10 non-null     object \n",
            " 9   RSVP Date                  10 non-null     object \n",
            " 10  Party Preference           10 non-null     object \n",
            "dtypes: float64(1), int64(1), object(9)\n",
            "memory usage: 1012.0+ bytes\n"
          ]
        }
      ]
    },
    {
      "cell_type": "markdown",
      "source": [
        "11. Checking the data for NA values"
      ],
      "metadata": {
        "id": "sN6XqG_I2B67"
      }
    },
    {
      "cell_type": "code",
      "source": [
        "#Task 11: Check if there are any NA values in the data and change it to \"None\"\n",
        "df_party.isnull().sum()"
      ],
      "metadata": {
        "id": "Wkh83Kk7xA_i",
        "colab": {
          "base_uri": "https://localhost:8080/",
          "height": 429
        },
        "outputId": "c4c5ffc5-092e-45f1-b6b1-e13378b87cf2"
      },
      "execution_count": null,
      "outputs": [
        {
          "output_type": "execute_result",
          "data": {
            "text/plain": [
              "Name                         0\n",
              "Party Date                   0\n",
              "Cake                         0\n",
              "Invitees                     0\n",
              "Return Gift                  0\n",
              "Cost of Return Gift (CHF)    0\n",
              "Allergies                    5\n",
              "Accessibility Needs          7\n",
              "RSVP Completed               0\n",
              "RSVP Date                    0\n",
              "Party Preference             0\n",
              "dtype: int64"
            ],
            "text/html": [
              "<div>\n",
              "<style scoped>\n",
              "    .dataframe tbody tr th:only-of-type {\n",
              "        vertical-align: middle;\n",
              "    }\n",
              "\n",
              "    .dataframe tbody tr th {\n",
              "        vertical-align: top;\n",
              "    }\n",
              "\n",
              "    .dataframe thead th {\n",
              "        text-align: right;\n",
              "    }\n",
              "</style>\n",
              "<table border=\"1\" class=\"dataframe\">\n",
              "  <thead>\n",
              "    <tr style=\"text-align: right;\">\n",
              "      <th></th>\n",
              "      <th>0</th>\n",
              "    </tr>\n",
              "  </thead>\n",
              "  <tbody>\n",
              "    <tr>\n",
              "      <th>Name</th>\n",
              "      <td>0</td>\n",
              "    </tr>\n",
              "    <tr>\n",
              "      <th>Party Date</th>\n",
              "      <td>0</td>\n",
              "    </tr>\n",
              "    <tr>\n",
              "      <th>Cake</th>\n",
              "      <td>0</td>\n",
              "    </tr>\n",
              "    <tr>\n",
              "      <th>Invitees</th>\n",
              "      <td>0</td>\n",
              "    </tr>\n",
              "    <tr>\n",
              "      <th>Return Gift</th>\n",
              "      <td>0</td>\n",
              "    </tr>\n",
              "    <tr>\n",
              "      <th>Cost of Return Gift (CHF)</th>\n",
              "      <td>0</td>\n",
              "    </tr>\n",
              "    <tr>\n",
              "      <th>Allergies</th>\n",
              "      <td>5</td>\n",
              "    </tr>\n",
              "    <tr>\n",
              "      <th>Accessibility Needs</th>\n",
              "      <td>7</td>\n",
              "    </tr>\n",
              "    <tr>\n",
              "      <th>RSVP Completed</th>\n",
              "      <td>0</td>\n",
              "    </tr>\n",
              "    <tr>\n",
              "      <th>RSVP Date</th>\n",
              "      <td>0</td>\n",
              "    </tr>\n",
              "    <tr>\n",
              "      <th>Party Preference</th>\n",
              "      <td>0</td>\n",
              "    </tr>\n",
              "  </tbody>\n",
              "</table>\n",
              "</div><br><label><b>dtype:</b> int64</label>"
            ]
          },
          "metadata": {},
          "execution_count": 22
        }
      ]
    },
    {
      "cell_type": "markdown",
      "source": [
        "If you find NA values, you have to clean the data, otherwise you will get errors during the calculations."
      ],
      "metadata": {
        "id": "nEWlkji_xEFg"
      }
    },
    {
      "cell_type": "code",
      "source": [
        "#Only NA values present in 2 columns which have string values, changing NA to \"None\"\n",
        "df_party = df_party.fillna(\"None\")\n",
        "df_party.info()"
      ],
      "metadata": {
        "id": "d-Hvg6SFxXKC",
        "colab": {
          "base_uri": "https://localhost:8080/"
        },
        "outputId": "45fe3e9f-ec46-4e75-a25b-8bce54dee789"
      },
      "execution_count": null,
      "outputs": [
        {
          "output_type": "stream",
          "name": "stdout",
          "text": [
            "<class 'pandas.core.frame.DataFrame'>\n",
            "RangeIndex: 10 entries, 0 to 9\n",
            "Data columns (total 11 columns):\n",
            " #   Column                     Non-Null Count  Dtype  \n",
            "---  ------                     --------------  -----  \n",
            " 0   Name                       10 non-null     object \n",
            " 1   Party Date                 10 non-null     object \n",
            " 2   Cake                       10 non-null     object \n",
            " 3   Invitees                   10 non-null     int64  \n",
            " 4   Return Gift                10 non-null     object \n",
            " 5   Cost of Return Gift (CHF)  10 non-null     float64\n",
            " 6   Allergies                  10 non-null     object \n",
            " 7   Accessibility Needs        10 non-null     object \n",
            " 8   RSVP Completed             10 non-null     object \n",
            " 9   RSVP Date                  10 non-null     object \n",
            " 10  Party Preference           10 non-null     object \n",
            "dtypes: float64(1), int64(1), object(9)\n",
            "memory usage: 1012.0+ bytes\n"
          ]
        }
      ]
    },
    {
      "cell_type": "markdown",
      "source": [
        "12. Making a dataframe for cake type and cost of cake"
      ],
      "metadata": {
        "id": "hUf1PuIY2FDC"
      }
    },
    {
      "cell_type": "code",
      "source": [
        "## Task 12: Make a dataframe for cake type and cost of cake\n",
        "cake_data = {'Cake Type': ['Chocolate', 'Vanilla', 'Tarte citron', 'Strawberry', 'Tarte aux pruneaux', 'Cheesecake','Carrot'],\n",
        "             'Cost': [50, 45, 60, 55, 70, 80, 60]}\n",
        "\n",
        "df_cake = pd.DataFrame(cake_data)\n",
        "df_cake.head()"
      ],
      "metadata": {
        "id": "Qww5lMMCxdeu",
        "colab": {
          "base_uri": "https://localhost:8080/",
          "height": 206
        },
        "outputId": "47362a09-9eec-43f2-8a50-6f9245b77551"
      },
      "execution_count": null,
      "outputs": [
        {
          "output_type": "execute_result",
          "data": {
            "text/plain": [
              "            Cake Type  Cost\n",
              "0           Chocolate    50\n",
              "1             Vanilla    45\n",
              "2        Tarte citron    60\n",
              "3          Strawberry    55\n",
              "4  Tarte aux pruneaux    70"
            ],
            "text/html": [
              "\n",
              "  <div id=\"df-46f9f342-ea9e-486f-9748-b39adcde3ebc\" class=\"colab-df-container\">\n",
              "    <div>\n",
              "<style scoped>\n",
              "    .dataframe tbody tr th:only-of-type {\n",
              "        vertical-align: middle;\n",
              "    }\n",
              "\n",
              "    .dataframe tbody tr th {\n",
              "        vertical-align: top;\n",
              "    }\n",
              "\n",
              "    .dataframe thead th {\n",
              "        text-align: right;\n",
              "    }\n",
              "</style>\n",
              "<table border=\"1\" class=\"dataframe\">\n",
              "  <thead>\n",
              "    <tr style=\"text-align: right;\">\n",
              "      <th></th>\n",
              "      <th>Cake Type</th>\n",
              "      <th>Cost</th>\n",
              "    </tr>\n",
              "  </thead>\n",
              "  <tbody>\n",
              "    <tr>\n",
              "      <th>0</th>\n",
              "      <td>Chocolate</td>\n",
              "      <td>50</td>\n",
              "    </tr>\n",
              "    <tr>\n",
              "      <th>1</th>\n",
              "      <td>Vanilla</td>\n",
              "      <td>45</td>\n",
              "    </tr>\n",
              "    <tr>\n",
              "      <th>2</th>\n",
              "      <td>Tarte citron</td>\n",
              "      <td>60</td>\n",
              "    </tr>\n",
              "    <tr>\n",
              "      <th>3</th>\n",
              "      <td>Strawberry</td>\n",
              "      <td>55</td>\n",
              "    </tr>\n",
              "    <tr>\n",
              "      <th>4</th>\n",
              "      <td>Tarte aux pruneaux</td>\n",
              "      <td>70</td>\n",
              "    </tr>\n",
              "  </tbody>\n",
              "</table>\n",
              "</div>\n",
              "    <div class=\"colab-df-buttons\">\n",
              "\n",
              "  <div class=\"colab-df-container\">\n",
              "    <button class=\"colab-df-convert\" onclick=\"convertToInteractive('df-46f9f342-ea9e-486f-9748-b39adcde3ebc')\"\n",
              "            title=\"Convert this dataframe to an interactive table.\"\n",
              "            style=\"display:none;\">\n",
              "\n",
              "  <svg xmlns=\"http://www.w3.org/2000/svg\" height=\"24px\" viewBox=\"0 -960 960 960\">\n",
              "    <path d=\"M120-120v-720h720v720H120Zm60-500h600v-160H180v160Zm220 220h160v-160H400v160Zm0 220h160v-160H400v160ZM180-400h160v-160H180v160Zm440 0h160v-160H620v160ZM180-180h160v-160H180v160Zm440 0h160v-160H620v160Z\"/>\n",
              "  </svg>\n",
              "    </button>\n",
              "\n",
              "  <style>\n",
              "    .colab-df-container {\n",
              "      display:flex;\n",
              "      gap: 12px;\n",
              "    }\n",
              "\n",
              "    .colab-df-convert {\n",
              "      background-color: #E8F0FE;\n",
              "      border: none;\n",
              "      border-radius: 50%;\n",
              "      cursor: pointer;\n",
              "      display: none;\n",
              "      fill: #1967D2;\n",
              "      height: 32px;\n",
              "      padding: 0 0 0 0;\n",
              "      width: 32px;\n",
              "    }\n",
              "\n",
              "    .colab-df-convert:hover {\n",
              "      background-color: #E2EBFA;\n",
              "      box-shadow: 0px 1px 2px rgba(60, 64, 67, 0.3), 0px 1px 3px 1px rgba(60, 64, 67, 0.15);\n",
              "      fill: #174EA6;\n",
              "    }\n",
              "\n",
              "    .colab-df-buttons div {\n",
              "      margin-bottom: 4px;\n",
              "    }\n",
              "\n",
              "    [theme=dark] .colab-df-convert {\n",
              "      background-color: #3B4455;\n",
              "      fill: #D2E3FC;\n",
              "    }\n",
              "\n",
              "    [theme=dark] .colab-df-convert:hover {\n",
              "      background-color: #434B5C;\n",
              "      box-shadow: 0px 1px 3px 1px rgba(0, 0, 0, 0.15);\n",
              "      filter: drop-shadow(0px 1px 2px rgba(0, 0, 0, 0.3));\n",
              "      fill: #FFFFFF;\n",
              "    }\n",
              "  </style>\n",
              "\n",
              "    <script>\n",
              "      const buttonEl =\n",
              "        document.querySelector('#df-46f9f342-ea9e-486f-9748-b39adcde3ebc button.colab-df-convert');\n",
              "      buttonEl.style.display =\n",
              "        google.colab.kernel.accessAllowed ? 'block' : 'none';\n",
              "\n",
              "      async function convertToInteractive(key) {\n",
              "        const element = document.querySelector('#df-46f9f342-ea9e-486f-9748-b39adcde3ebc');\n",
              "        const dataTable =\n",
              "          await google.colab.kernel.invokeFunction('convertToInteractive',\n",
              "                                                    [key], {});\n",
              "        if (!dataTable) return;\n",
              "\n",
              "        const docLinkHtml = 'Like what you see? Visit the ' +\n",
              "          '<a target=\"_blank\" href=https://colab.research.google.com/notebooks/data_table.ipynb>data table notebook</a>'\n",
              "          + ' to learn more about interactive tables.';\n",
              "        element.innerHTML = '';\n",
              "        dataTable['output_type'] = 'display_data';\n",
              "        await google.colab.output.renderOutput(dataTable, element);\n",
              "        const docLink = document.createElement('div');\n",
              "        docLink.innerHTML = docLinkHtml;\n",
              "        element.appendChild(docLink);\n",
              "      }\n",
              "    </script>\n",
              "  </div>\n",
              "\n",
              "\n",
              "<div id=\"df-a765d72c-72dc-490f-b370-0db7964ef506\">\n",
              "  <button class=\"colab-df-quickchart\" onclick=\"quickchart('df-a765d72c-72dc-490f-b370-0db7964ef506')\"\n",
              "            title=\"Suggest charts\"\n",
              "            style=\"display:none;\">\n",
              "\n",
              "<svg xmlns=\"http://www.w3.org/2000/svg\" height=\"24px\"viewBox=\"0 0 24 24\"\n",
              "     width=\"24px\">\n",
              "    <g>\n",
              "        <path d=\"M19 3H5c-1.1 0-2 .9-2 2v14c0 1.1.9 2 2 2h14c1.1 0 2-.9 2-2V5c0-1.1-.9-2-2-2zM9 17H7v-7h2v7zm4 0h-2V7h2v10zm4 0h-2v-4h2v4z\"/>\n",
              "    </g>\n",
              "</svg>\n",
              "  </button>\n",
              "\n",
              "<style>\n",
              "  .colab-df-quickchart {\n",
              "      --bg-color: #E8F0FE;\n",
              "      --fill-color: #1967D2;\n",
              "      --hover-bg-color: #E2EBFA;\n",
              "      --hover-fill-color: #174EA6;\n",
              "      --disabled-fill-color: #AAA;\n",
              "      --disabled-bg-color: #DDD;\n",
              "  }\n",
              "\n",
              "  [theme=dark] .colab-df-quickchart {\n",
              "      --bg-color: #3B4455;\n",
              "      --fill-color: #D2E3FC;\n",
              "      --hover-bg-color: #434B5C;\n",
              "      --hover-fill-color: #FFFFFF;\n",
              "      --disabled-bg-color: #3B4455;\n",
              "      --disabled-fill-color: #666;\n",
              "  }\n",
              "\n",
              "  .colab-df-quickchart {\n",
              "    background-color: var(--bg-color);\n",
              "    border: none;\n",
              "    border-radius: 50%;\n",
              "    cursor: pointer;\n",
              "    display: none;\n",
              "    fill: var(--fill-color);\n",
              "    height: 32px;\n",
              "    padding: 0;\n",
              "    width: 32px;\n",
              "  }\n",
              "\n",
              "  .colab-df-quickchart:hover {\n",
              "    background-color: var(--hover-bg-color);\n",
              "    box-shadow: 0 1px 2px rgba(60, 64, 67, 0.3), 0 1px 3px 1px rgba(60, 64, 67, 0.15);\n",
              "    fill: var(--button-hover-fill-color);\n",
              "  }\n",
              "\n",
              "  .colab-df-quickchart-complete:disabled,\n",
              "  .colab-df-quickchart-complete:disabled:hover {\n",
              "    background-color: var(--disabled-bg-color);\n",
              "    fill: var(--disabled-fill-color);\n",
              "    box-shadow: none;\n",
              "  }\n",
              "\n",
              "  .colab-df-spinner {\n",
              "    border: 2px solid var(--fill-color);\n",
              "    border-color: transparent;\n",
              "    border-bottom-color: var(--fill-color);\n",
              "    animation:\n",
              "      spin 1s steps(1) infinite;\n",
              "  }\n",
              "\n",
              "  @keyframes spin {\n",
              "    0% {\n",
              "      border-color: transparent;\n",
              "      border-bottom-color: var(--fill-color);\n",
              "      border-left-color: var(--fill-color);\n",
              "    }\n",
              "    20% {\n",
              "      border-color: transparent;\n",
              "      border-left-color: var(--fill-color);\n",
              "      border-top-color: var(--fill-color);\n",
              "    }\n",
              "    30% {\n",
              "      border-color: transparent;\n",
              "      border-left-color: var(--fill-color);\n",
              "      border-top-color: var(--fill-color);\n",
              "      border-right-color: var(--fill-color);\n",
              "    }\n",
              "    40% {\n",
              "      border-color: transparent;\n",
              "      border-right-color: var(--fill-color);\n",
              "      border-top-color: var(--fill-color);\n",
              "    }\n",
              "    60% {\n",
              "      border-color: transparent;\n",
              "      border-right-color: var(--fill-color);\n",
              "    }\n",
              "    80% {\n",
              "      border-color: transparent;\n",
              "      border-right-color: var(--fill-color);\n",
              "      border-bottom-color: var(--fill-color);\n",
              "    }\n",
              "    90% {\n",
              "      border-color: transparent;\n",
              "      border-bottom-color: var(--fill-color);\n",
              "    }\n",
              "  }\n",
              "</style>\n",
              "\n",
              "  <script>\n",
              "    async function quickchart(key) {\n",
              "      const quickchartButtonEl =\n",
              "        document.querySelector('#' + key + ' button');\n",
              "      quickchartButtonEl.disabled = true;  // To prevent multiple clicks.\n",
              "      quickchartButtonEl.classList.add('colab-df-spinner');\n",
              "      try {\n",
              "        const charts = await google.colab.kernel.invokeFunction(\n",
              "            'suggestCharts', [key], {});\n",
              "      } catch (error) {\n",
              "        console.error('Error during call to suggestCharts:', error);\n",
              "      }\n",
              "      quickchartButtonEl.classList.remove('colab-df-spinner');\n",
              "      quickchartButtonEl.classList.add('colab-df-quickchart-complete');\n",
              "    }\n",
              "    (() => {\n",
              "      let quickchartButtonEl =\n",
              "        document.querySelector('#df-a765d72c-72dc-490f-b370-0db7964ef506 button');\n",
              "      quickchartButtonEl.style.display =\n",
              "        google.colab.kernel.accessAllowed ? 'block' : 'none';\n",
              "    })();\n",
              "  </script>\n",
              "</div>\n",
              "\n",
              "    </div>\n",
              "  </div>\n"
            ],
            "application/vnd.google.colaboratory.intrinsic+json": {
              "type": "dataframe",
              "variable_name": "df_cake",
              "summary": "{\n  \"name\": \"df_cake\",\n  \"rows\": 7,\n  \"fields\": [\n    {\n      \"column\": \"Cake Type\",\n      \"properties\": {\n        \"dtype\": \"string\",\n        \"num_unique_values\": 7,\n        \"samples\": [\n          \"Chocolate\",\n          \"Vanilla\",\n          \"Cheesecake\"\n        ],\n        \"semantic_type\": \"\",\n        \"description\": \"\"\n      }\n    },\n    {\n      \"column\": \"Cost\",\n      \"properties\": {\n        \"dtype\": \"number\",\n        \"std\": 11,\n        \"min\": 45,\n        \"max\": 80,\n        \"num_unique_values\": 6,\n        \"samples\": [\n          50,\n          45,\n          80\n        ],\n        \"semantic_type\": \"\",\n        \"description\": \"\"\n      }\n    }\n  ]\n}"
            }
          },
          "metadata": {},
          "execution_count": 24
        }
      ]
    },
    {
      "cell_type": "markdown",
      "source": [
        "13. Make a dataframe for indoor and outdoor cost"
      ],
      "metadata": {
        "id": "Tu0lztjWBb63"
      }
    },
    {
      "cell_type": "code",
      "source": [
        "##Task 13: Make a dataframe for indoor and outdoor preference and respective cost\n",
        "pref_data = {'Party Preference': ['Indoor', 'Outdoor'],\n",
        "             'Cost': [500, 300]}\n",
        "\n",
        "df_pref = pd.DataFrame(pref_data)\n",
        "df_pref.head()"
      ],
      "metadata": {
        "id": "t5T5nhVcxgqZ",
        "colab": {
          "base_uri": "https://localhost:8080/",
          "height": 112
        },
        "outputId": "d3d4ae1f-7e62-4ada-ffd5-5b9bdd41c59f"
      },
      "execution_count": null,
      "outputs": [
        {
          "output_type": "execute_result",
          "data": {
            "text/plain": [
              "  Party Preference  Cost\n",
              "0           Indoor   500\n",
              "1          Outdoor   300"
            ],
            "text/html": [
              "\n",
              "  <div id=\"df-f326aa46-39b5-4fa1-ba1e-8d240160f56b\" class=\"colab-df-container\">\n",
              "    <div>\n",
              "<style scoped>\n",
              "    .dataframe tbody tr th:only-of-type {\n",
              "        vertical-align: middle;\n",
              "    }\n",
              "\n",
              "    .dataframe tbody tr th {\n",
              "        vertical-align: top;\n",
              "    }\n",
              "\n",
              "    .dataframe thead th {\n",
              "        text-align: right;\n",
              "    }\n",
              "</style>\n",
              "<table border=\"1\" class=\"dataframe\">\n",
              "  <thead>\n",
              "    <tr style=\"text-align: right;\">\n",
              "      <th></th>\n",
              "      <th>Party Preference</th>\n",
              "      <th>Cost</th>\n",
              "    </tr>\n",
              "  </thead>\n",
              "  <tbody>\n",
              "    <tr>\n",
              "      <th>0</th>\n",
              "      <td>Indoor</td>\n",
              "      <td>500</td>\n",
              "    </tr>\n",
              "    <tr>\n",
              "      <th>1</th>\n",
              "      <td>Outdoor</td>\n",
              "      <td>300</td>\n",
              "    </tr>\n",
              "  </tbody>\n",
              "</table>\n",
              "</div>\n",
              "    <div class=\"colab-df-buttons\">\n",
              "\n",
              "  <div class=\"colab-df-container\">\n",
              "    <button class=\"colab-df-convert\" onclick=\"convertToInteractive('df-f326aa46-39b5-4fa1-ba1e-8d240160f56b')\"\n",
              "            title=\"Convert this dataframe to an interactive table.\"\n",
              "            style=\"display:none;\">\n",
              "\n",
              "  <svg xmlns=\"http://www.w3.org/2000/svg\" height=\"24px\" viewBox=\"0 -960 960 960\">\n",
              "    <path d=\"M120-120v-720h720v720H120Zm60-500h600v-160H180v160Zm220 220h160v-160H400v160Zm0 220h160v-160H400v160ZM180-400h160v-160H180v160Zm440 0h160v-160H620v160ZM180-180h160v-160H180v160Zm440 0h160v-160H620v160Z\"/>\n",
              "  </svg>\n",
              "    </button>\n",
              "\n",
              "  <style>\n",
              "    .colab-df-container {\n",
              "      display:flex;\n",
              "      gap: 12px;\n",
              "    }\n",
              "\n",
              "    .colab-df-convert {\n",
              "      background-color: #E8F0FE;\n",
              "      border: none;\n",
              "      border-radius: 50%;\n",
              "      cursor: pointer;\n",
              "      display: none;\n",
              "      fill: #1967D2;\n",
              "      height: 32px;\n",
              "      padding: 0 0 0 0;\n",
              "      width: 32px;\n",
              "    }\n",
              "\n",
              "    .colab-df-convert:hover {\n",
              "      background-color: #E2EBFA;\n",
              "      box-shadow: 0px 1px 2px rgba(60, 64, 67, 0.3), 0px 1px 3px 1px rgba(60, 64, 67, 0.15);\n",
              "      fill: #174EA6;\n",
              "    }\n",
              "\n",
              "    .colab-df-buttons div {\n",
              "      margin-bottom: 4px;\n",
              "    }\n",
              "\n",
              "    [theme=dark] .colab-df-convert {\n",
              "      background-color: #3B4455;\n",
              "      fill: #D2E3FC;\n",
              "    }\n",
              "\n",
              "    [theme=dark] .colab-df-convert:hover {\n",
              "      background-color: #434B5C;\n",
              "      box-shadow: 0px 1px 3px 1px rgba(0, 0, 0, 0.15);\n",
              "      filter: drop-shadow(0px 1px 2px rgba(0, 0, 0, 0.3));\n",
              "      fill: #FFFFFF;\n",
              "    }\n",
              "  </style>\n",
              "\n",
              "    <script>\n",
              "      const buttonEl =\n",
              "        document.querySelector('#df-f326aa46-39b5-4fa1-ba1e-8d240160f56b button.colab-df-convert');\n",
              "      buttonEl.style.display =\n",
              "        google.colab.kernel.accessAllowed ? 'block' : 'none';\n",
              "\n",
              "      async function convertToInteractive(key) {\n",
              "        const element = document.querySelector('#df-f326aa46-39b5-4fa1-ba1e-8d240160f56b');\n",
              "        const dataTable =\n",
              "          await google.colab.kernel.invokeFunction('convertToInteractive',\n",
              "                                                    [key], {});\n",
              "        if (!dataTable) return;\n",
              "\n",
              "        const docLinkHtml = 'Like what you see? Visit the ' +\n",
              "          '<a target=\"_blank\" href=https://colab.research.google.com/notebooks/data_table.ipynb>data table notebook</a>'\n",
              "          + ' to learn more about interactive tables.';\n",
              "        element.innerHTML = '';\n",
              "        dataTable['output_type'] = 'display_data';\n",
              "        await google.colab.output.renderOutput(dataTable, element);\n",
              "        const docLink = document.createElement('div');\n",
              "        docLink.innerHTML = docLinkHtml;\n",
              "        element.appendChild(docLink);\n",
              "      }\n",
              "    </script>\n",
              "  </div>\n",
              "\n",
              "\n",
              "<div id=\"df-645eb70e-8733-4048-aabf-e8af6c449a70\">\n",
              "  <button class=\"colab-df-quickchart\" onclick=\"quickchart('df-645eb70e-8733-4048-aabf-e8af6c449a70')\"\n",
              "            title=\"Suggest charts\"\n",
              "            style=\"display:none;\">\n",
              "\n",
              "<svg xmlns=\"http://www.w3.org/2000/svg\" height=\"24px\"viewBox=\"0 0 24 24\"\n",
              "     width=\"24px\">\n",
              "    <g>\n",
              "        <path d=\"M19 3H5c-1.1 0-2 .9-2 2v14c0 1.1.9 2 2 2h14c1.1 0 2-.9 2-2V5c0-1.1-.9-2-2-2zM9 17H7v-7h2v7zm4 0h-2V7h2v10zm4 0h-2v-4h2v4z\"/>\n",
              "    </g>\n",
              "</svg>\n",
              "  </button>\n",
              "\n",
              "<style>\n",
              "  .colab-df-quickchart {\n",
              "      --bg-color: #E8F0FE;\n",
              "      --fill-color: #1967D2;\n",
              "      --hover-bg-color: #E2EBFA;\n",
              "      --hover-fill-color: #174EA6;\n",
              "      --disabled-fill-color: #AAA;\n",
              "      --disabled-bg-color: #DDD;\n",
              "  }\n",
              "\n",
              "  [theme=dark] .colab-df-quickchart {\n",
              "      --bg-color: #3B4455;\n",
              "      --fill-color: #D2E3FC;\n",
              "      --hover-bg-color: #434B5C;\n",
              "      --hover-fill-color: #FFFFFF;\n",
              "      --disabled-bg-color: #3B4455;\n",
              "      --disabled-fill-color: #666;\n",
              "  }\n",
              "\n",
              "  .colab-df-quickchart {\n",
              "    background-color: var(--bg-color);\n",
              "    border: none;\n",
              "    border-radius: 50%;\n",
              "    cursor: pointer;\n",
              "    display: none;\n",
              "    fill: var(--fill-color);\n",
              "    height: 32px;\n",
              "    padding: 0;\n",
              "    width: 32px;\n",
              "  }\n",
              "\n",
              "  .colab-df-quickchart:hover {\n",
              "    background-color: var(--hover-bg-color);\n",
              "    box-shadow: 0 1px 2px rgba(60, 64, 67, 0.3), 0 1px 3px 1px rgba(60, 64, 67, 0.15);\n",
              "    fill: var(--button-hover-fill-color);\n",
              "  }\n",
              "\n",
              "  .colab-df-quickchart-complete:disabled,\n",
              "  .colab-df-quickchart-complete:disabled:hover {\n",
              "    background-color: var(--disabled-bg-color);\n",
              "    fill: var(--disabled-fill-color);\n",
              "    box-shadow: none;\n",
              "  }\n",
              "\n",
              "  .colab-df-spinner {\n",
              "    border: 2px solid var(--fill-color);\n",
              "    border-color: transparent;\n",
              "    border-bottom-color: var(--fill-color);\n",
              "    animation:\n",
              "      spin 1s steps(1) infinite;\n",
              "  }\n",
              "\n",
              "  @keyframes spin {\n",
              "    0% {\n",
              "      border-color: transparent;\n",
              "      border-bottom-color: var(--fill-color);\n",
              "      border-left-color: var(--fill-color);\n",
              "    }\n",
              "    20% {\n",
              "      border-color: transparent;\n",
              "      border-left-color: var(--fill-color);\n",
              "      border-top-color: var(--fill-color);\n",
              "    }\n",
              "    30% {\n",
              "      border-color: transparent;\n",
              "      border-left-color: var(--fill-color);\n",
              "      border-top-color: var(--fill-color);\n",
              "      border-right-color: var(--fill-color);\n",
              "    }\n",
              "    40% {\n",
              "      border-color: transparent;\n",
              "      border-right-color: var(--fill-color);\n",
              "      border-top-color: var(--fill-color);\n",
              "    }\n",
              "    60% {\n",
              "      border-color: transparent;\n",
              "      border-right-color: var(--fill-color);\n",
              "    }\n",
              "    80% {\n",
              "      border-color: transparent;\n",
              "      border-right-color: var(--fill-color);\n",
              "      border-bottom-color: var(--fill-color);\n",
              "    }\n",
              "    90% {\n",
              "      border-color: transparent;\n",
              "      border-bottom-color: var(--fill-color);\n",
              "    }\n",
              "  }\n",
              "</style>\n",
              "\n",
              "  <script>\n",
              "    async function quickchart(key) {\n",
              "      const quickchartButtonEl =\n",
              "        document.querySelector('#' + key + ' button');\n",
              "      quickchartButtonEl.disabled = true;  // To prevent multiple clicks.\n",
              "      quickchartButtonEl.classList.add('colab-df-spinner');\n",
              "      try {\n",
              "        const charts = await google.colab.kernel.invokeFunction(\n",
              "            'suggestCharts', [key], {});\n",
              "      } catch (error) {\n",
              "        console.error('Error during call to suggestCharts:', error);\n",
              "      }\n",
              "      quickchartButtonEl.classList.remove('colab-df-spinner');\n",
              "      quickchartButtonEl.classList.add('colab-df-quickchart-complete');\n",
              "    }\n",
              "    (() => {\n",
              "      let quickchartButtonEl =\n",
              "        document.querySelector('#df-645eb70e-8733-4048-aabf-e8af6c449a70 button');\n",
              "      quickchartButtonEl.style.display =\n",
              "        google.colab.kernel.accessAllowed ? 'block' : 'none';\n",
              "    })();\n",
              "  </script>\n",
              "</div>\n",
              "\n",
              "    </div>\n",
              "  </div>\n"
            ],
            "application/vnd.google.colaboratory.intrinsic+json": {
              "type": "dataframe",
              "variable_name": "df_pref",
              "summary": "{\n  \"name\": \"df_pref\",\n  \"rows\": 2,\n  \"fields\": [\n    {\n      \"column\": \"Party Preference\",\n      \"properties\": {\n        \"dtype\": \"string\",\n        \"num_unique_values\": 2,\n        \"samples\": [\n          \"Outdoor\",\n          \"Indoor\"\n        ],\n        \"semantic_type\": \"\",\n        \"description\": \"\"\n      }\n    },\n    {\n      \"column\": \"Cost\",\n      \"properties\": {\n        \"dtype\": \"number\",\n        \"std\": 141,\n        \"min\": 300,\n        \"max\": 500,\n        \"num_unique_values\": 2,\n        \"samples\": [\n          300,\n          500\n        ],\n        \"semantic_type\": \"\",\n        \"description\": \"\"\n      }\n    }\n  ]\n}"
            }
          },
          "metadata": {},
          "execution_count": 25
        }
      ]
    },
    {
      "cell_type": "markdown",
      "source": [
        "14. Add a per invitee charge (for food and decoration expenses)"
      ],
      "metadata": {
        "id": "yPWbnQrvBjmw"
      }
    },
    {
      "cell_type": "code",
      "source": [
        "##Task 14: Make a variable for per invitee charge\n",
        "invitee_charge = 15"
      ],
      "metadata": {
        "id": "nKrCefEFxjPx"
      },
      "execution_count": null,
      "outputs": []
    },
    {
      "cell_type": "markdown",
      "source": [
        "At this step, we will calculate the expenses for each party, which will include\n",
        "\n",
        "\n",
        "*   Cake cost\n",
        "*   Total invitees charge (no of invitees * charge per invitee)\n",
        "*   Cost for indoor/outdoor preference\n",
        "*   Cost of return gift\n",
        "*   Cost of Allergy\n",
        "*   Your fees and service tax\n",
        "\n"
      ],
      "metadata": {
        "id": "m7BsDfTyHMmX"
      }
    },
    {
      "cell_type": "markdown",
      "source": [
        "15. Create a quotation variable \"quote\" and add cost of cake"
      ],
      "metadata": {
        "id": "8aijNNhzByZp"
      }
    },
    {
      "cell_type": "code",
      "source": [
        "##quote = cost of cake + cost of invitees + indoor/outdoor preference + return gift cost if voted yes\n",
        "##Task 15: Start making the quotation, add cost of cake\n",
        "\n",
        "quote = 0\n",
        "name = df_party['Name'].iloc[0]\n",
        "#Get the cake type and cake cost for the selected name\n",
        "cake_type = df_party.loc[df_party['Name'] == name, 'Cake'].values[0]\n",
        "cake_cost = df_cake.loc[df_cake['Cake Type'] == cake_type, 'Cost'].values[0]\n",
        "quote = quote + cake_cost"
      ],
      "metadata": {
        "id": "k5ke51oWxxYB"
      },
      "execution_count": null,
      "outputs": []
    },
    {
      "cell_type": "markdown",
      "source": [
        "16. Add invitees charges to \"quote\""
      ],
      "metadata": {
        "id": "bIkgPYHkB6Bo"
      }
    },
    {
      "cell_type": "code",
      "source": [
        "#Task 16: Add charges for invitees to the quote\n",
        "invitees = df_party.loc[df_party['Name'] == name, 'Invitees'].values[0]\n",
        "quote = quote + (invitees * invitee_charge)"
      ],
      "metadata": {
        "id": "VBh0D-YnJNBq"
      },
      "execution_count": null,
      "outputs": []
    },
    {
      "cell_type": "markdown",
      "source": [
        "17. Add indoor/outdoor cost to \"quote\""
      ],
      "metadata": {
        "id": "RWNp7RkrCGzH"
      }
    },
    {
      "cell_type": "code",
      "source": [
        "#Task 17: Add cost for indoor/outdoor preference to the quote\n",
        "\n",
        "party_pref = df_party.loc[df_party['Name'] == name, 'Party Preference'].values[0]\n",
        "if party_pref == 'Indoor':\n",
        "    pref_cost = df_pref.loc[df_pref['Party Preference'] == 'Indoor', 'Cost'].values[0]\n",
        "    quote = quote + pref_cost\n",
        "elif party_pref == 'Outdoor':\n",
        "    pref_cost = df_pref.loc[df_pref['Party Preference'] == 'Outdoor', 'Cost'].values[0]\n",
        "    quote = quote + pref_cost"
      ],
      "metadata": {
        "id": "a7L24cafxy13"
      },
      "execution_count": null,
      "outputs": []
    },
    {
      "cell_type": "markdown",
      "source": [
        "18. Add return gift cost to \"quote\""
      ],
      "metadata": {
        "id": "FW8MQKQNCL43"
      }
    },
    {
      "cell_type": "code",
      "source": [
        "##Task 18: Add return gift cost if voted \"yes\"\n",
        "return_gift = df_party.loc[df_party['Name'] == name, 'Return Gift'].values[0]\n",
        "return_gift_cost = df_party.loc[df_party['Name'] == name, 'Cost of Return Gift (CHF)'].values[0]\n",
        "if return_gift == 'Yes':\n",
        "    quote = quote + invitees * return_gift_cost"
      ],
      "metadata": {
        "id": "QK1aDd83x3EH"
      },
      "execution_count": null,
      "outputs": []
    },
    {
      "cell_type": "markdown",
      "source": [
        "19. Add charges to \"quote\" if allergies are mentioned"
      ],
      "metadata": {
        "id": "AIS3_noFCRJ1"
      }
    },
    {
      "cell_type": "code",
      "source": [
        "##Task 19: Add CHF 50 for allergy has been mentioned\n",
        "allergies = df_party.loc[df_party['Name'] == name, 'Allergies'].values[0]\n",
        "if allergies != \"None\":\n",
        "    quote += 50\n"
      ],
      "metadata": {
        "id": "lVrhhVFSx61p"
      },
      "execution_count": null,
      "outputs": []
    },
    {
      "cell_type": "markdown",
      "source": [
        "20. Add your fees and service tax to \"quote\""
      ],
      "metadata": {
        "id": "jrQyyaeDCaxV"
      }
    },
    {
      "cell_type": "code",
      "source": [
        "##Task 20: Add 10% of the quote as your fees and 8% as Service Tax\n",
        "\n",
        "final_quote = quote * 1.18\n",
        "print(f\"Quotation for {name} is {final_quote} CHF\")"
      ],
      "metadata": {
        "id": "kFQaQ63Lx9hb",
        "colab": {
          "base_uri": "https://localhost:8080/"
        },
        "outputId": "a18e06ef-12dc-424b-95b4-ae27d1eab5e4"
      },
      "execution_count": null,
      "outputs": [
        {
          "output_type": "stream",
          "name": "stdout",
          "text": [
            "Quotation for Lucas is 885.0 CHF\n"
          ]
        }
      ]
    },
    {
      "cell_type": "markdown",
      "source": [
        "For checking the quotation for each person, change iloc from 0 to 1,2,3...9. There are multiples tasks that can be added with respect to this data, for example,\n",
        "- Creating a for loop for iloc 0 to 9 and saving the quotations in a dataframe\n",
        "- Total hours required to plan the parties and earnings based on hourly rate\n",
        "- Adding other expenses to the quotations such as decoration items\n",
        "- Plot number of parties per month and income generated per month\n"
      ],
      "metadata": {
        "id": "WmfPkT5eyPpr"
      }
    },
    {
      "cell_type": "markdown",
      "source": [
        "Now, if we wish to work with dates, we can import a new library \"datetime\". We can use this library to check if RSVP date is atleast 1 week before the party date."
      ],
      "metadata": {
        "id": "4YcBZ-5d0mCM"
      }
    },
    {
      "cell_type": "markdown",
      "source": [
        "21. Check the RSVP date vs party date, the difference should be 7-15 days (negative values, big values and less than 7 is not okay)"
      ],
      "metadata": {
        "id": "tWgmzpO215eP"
      }
    },
    {
      "cell_type": "code",
      "source": [
        "#Task 21: Check if RSVP date is 1 week before the party date\n",
        "#Check datetime documentation for the syntax and formats\n",
        "import datetime\n",
        "\n",
        "# Creating the dataframe for the two dates\n",
        "df_party['Party Date'] = pd.to_datetime(df_party['Party Date'], format='%d %B %Y')\n",
        "df_party['RSVP Date'] = pd.to_datetime(df_party['RSVP Date'], format='%d %B %Y')\n",
        "print(df_party['Party Date'])\n",
        "print(df_party['RSVP Date'])\n",
        "\n",
        "# Subtract the two dates to get the difference\n",
        "df_party['Date Difference'] = df_party['Party Date'] - df_party['RSVP Date']\n",
        "print(df_party['Date Difference'])\n",
        "print(df_party)"
      ],
      "metadata": {
        "id": "CnDWYrYp03NY",
        "colab": {
          "base_uri": "https://localhost:8080/"
        },
        "outputId": "c9036aa6-ed5e-4f13-f9de-d9078bbbc942"
      },
      "execution_count": null,
      "outputs": [
        {
          "output_type": "stream",
          "name": "stdout",
          "text": [
            "0   2025-08-21\n",
            "1   2025-07-14\n",
            "2   2025-06-01\n",
            "3   2025-09-01\n",
            "4   2025-09-11\n",
            "5   2025-06-22\n",
            "6   2025-05-12\n",
            "7   2025-06-05\n",
            "8   2025-07-09\n",
            "9   2025-07-14\n",
            "Name: Party Date, dtype: datetime64[ns]\n",
            "0   2025-08-14\n",
            "1   2025-07-07\n",
            "2   2025-06-25\n",
            "3   2025-08-30\n",
            "4   2025-05-20\n",
            "5   2025-06-14\n",
            "6   2025-05-01\n",
            "7   2025-05-23\n",
            "8   2025-07-01\n",
            "9   2025-08-04\n",
            "Name: RSVP Date, dtype: datetime64[ns]\n",
            "0     7 days\n",
            "1     7 days\n",
            "2   -24 days\n",
            "3     2 days\n",
            "4   114 days\n",
            "5     8 days\n",
            "6    11 days\n",
            "7    13 days\n",
            "8     8 days\n",
            "9   -21 days\n",
            "Name: Date Difference, dtype: timedelta64[ns]\n",
            "       Name Party Date                Cake  Invitees Return Gift  \\\n",
            "0     Lucas 2025-08-21           Chocolate        20         Yes   \n",
            "1     Maria 2025-07-14             Vanilla        15         Yes   \n",
            "2     Ahmed 2025-06-01        Tarte citron        12          No   \n",
            "3     Sofia 2025-09-01          Strawberry        18         Yes   \n",
            "4     Kenzo 2025-09-11  Tarte aux pruneaux        10         Yes   \n",
            "5     Chloe 2025-06-22        Tarte citron        22         Yes   \n",
            "6      Luca 2025-05-12           Chocolate        14          No   \n",
            "7     Amina 2025-06-05          Cheesecake        16         Yes   \n",
            "8     Mateo 2025-07-09              Carrot        13         Yes   \n",
            "9  Isabella 2025-07-14        Tarte citron        25         Yes   \n",
            "\n",
            "   Cost of Return Gift (CHF) Allergies Accessibility Needs RSVP Completed  \\\n",
            "0                        5.0      None                None            Yes   \n",
            "1                        4.5    Gluten                None            Yes   \n",
            "2                        0.0      Nuts   Wheelchair Access             No   \n",
            "3                        6.0     Dairy                None            Yes   \n",
            "4                        7.0      None                None            Yes   \n",
            "5                        5.0      None                None            Yes   \n",
            "6                        0.0    Gluten               Vegan             No   \n",
            "7                        4.0      None                None            Yes   \n",
            "8                        6.0      None          Vegetarian            Yes   \n",
            "9                        7.0     Dairy                None            Yes   \n",
            "\n",
            "   RSVP Date Party Preference Date Difference  \n",
            "0 2025-08-14          Outdoor          7 days  \n",
            "1 2025-07-07           Indoor          7 days  \n",
            "2 2025-06-25           Indoor        -24 days  \n",
            "3 2025-08-30          Outdoor          2 days  \n",
            "4 2025-05-20           Indoor        114 days  \n",
            "5 2025-06-14           Indoor          8 days  \n",
            "6 2025-05-01          Outdoor         11 days  \n",
            "7 2025-05-23          Outdoor         13 days  \n",
            "8 2025-07-01          Outdoor          8 days  \n",
            "9 2025-08-04          Outdoor        -21 days  \n"
          ]
        }
      ]
    },
    {
      "cell_type": "markdown",
      "source": [
        "To work on this problem more, you can create a new dataframe with revised RSVP date which is 1 week before the party date and add the names of the birthday person against it. You can imagine your own tasks which will make it more fun."
      ],
      "metadata": {
        "id": "dgRRY14G1JJL"
      }
    }
  ]
}