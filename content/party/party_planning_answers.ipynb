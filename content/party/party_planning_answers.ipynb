{
  "nbformat": 4,
  "nbformat_minor": 0,
  "metadata": {
    "colab": {
      "provenance": []
    },
    "kernelspec": {
      "name": "python3",
      "display_name": "Python 3"
    },
    "language_info": {
      "name": "python"
    }
  },
  "cells": [
    {
      "cell_type": "markdown",
      "source": [
        "**Python Bootcamp**\n",
        "\n",
        "In this tutorial, we will learn how to create variables, list and dictonaries. Furthermore, we will import some data and write a code to derive more information out of the data."
      ],
      "metadata": {
        "id": "-6O6b38Zxp2w"
      }
    },
    {
      "cell_type": "markdown",
      "source": [
        "1. Creating Variables\n",
        "Explanation: A variable is where you store a piece of information.\n",
        "Task: Create variables to store the name of your business:(business_name), your hourly rate (hourly_rate), and the number of hours you’ve worked on a party (hours_worked).\n",
        "Practical Use Case: Keep track of your business details and calculate your earnings for planning a specific event."
      ],
      "metadata": {
        "id": "9K3BPhIQrmJJ"
      }
    },
    {
      "cell_type": "code",
      "source": [
        "#Task 1 Code Example\n",
        "# Create variables for your business\n",
        "business_name = \"Party Planners Inc.\" #write the name in quotation marks.\n",
        "hourly_rate = 25.50  # in CHF\n",
        "hours_worked = 4  # in hours\n",
        "\n",
        "# Print the variables to check their values\n",
        "print(business_name)\n",
        "print(hourly_rate)\n",
        "print(hours_worked)"
      ],
      "metadata": {
        "id": "4_0mdoUDzYgF"
      },
      "execution_count": null,
      "outputs": []
    },
    {
      "cell_type": "code",
      "execution_count": null,
      "metadata": {
        "id": "hBR1sHP03Imj"
      },
      "outputs": [],
      "source": [
        "# Task 1\n",
        "# Write your Task 1 code here.\n",
        "# Execute this cell by typing CTRL+Enter or CMD+Enter, or press Play"
      ]
    },
    {
      "cell_type": "markdown",
      "source": [
        "2. Data Types: String, Integer, and Float\n",
        "\n",
        "Task: Identify the data types of your variables: business name (string), hourly rate (float), and hours worked (integer). Create a variable total_earnings and calculate it using the formula: hourly_rate * hours_worked.\n",
        "Practical Use Case: Understand how to store and manipulate different types of data in your business calculations."
      ],
      "metadata": {
        "id": "NE_N3f4lrsk5"
      }
    },
    {
      "cell_type": "code",
      "source": [
        "# Task 2 Code Example\n",
        "# Check data types\n",
        "print(type(business_name))  # String\n",
        "print(type(hourly_rate))    # Float\n",
        "print(type(hours_worked))   # Integer\n",
        "\n",
        "# Calculate total earnings\n",
        "total_earnings = hourly_rate * hours_worked\n",
        "print(\"Total earnings:\", total_earnings, \"CHF\") #print items separated by commas"
      ],
      "metadata": {
        "id": "frxaWo5p0b4H"
      },
      "execution_count": null,
      "outputs": []
    },
    {
      "cell_type": "code",
      "source": [
        "# Task 2\n",
        "# Write your code here."
      ],
      "metadata": {
        "id": "4XkG2k96uNwe"
      },
      "execution_count": null,
      "outputs": []
    },
    {
      "cell_type": "markdown",
      "source": [
        "3. Performing Arithmetic Operations\n",
        "\n",
        "Task: Add, subtract, multiply, and divide to calculate the cost of party supplies. For example, if balloons cost 2.50 CHF each, calculate the total for 20 balloons.\n",
        "Practical Use Case: Budget for supplies and calculate total costs for different items needed for an event."
      ],
      "metadata": {
        "id": "nV6MGM25t863"
      }
    },
    {
      "cell_type": "code",
      "source": [
        "# Task 3 Code Example\n",
        "# Arithmetic operations for party supplies\n",
        "cost_per_balloon = 2.50  # in CHF\n",
        "number_of_balloons = 20\n",
        "\n",
        "total_balloon_cost = cost_per_balloon * number_of_balloons\n",
        "print(\"Total balloon cost:\", total_balloon_cost, \"CHF\")"
      ],
      "metadata": {
        "id": "t0idRPDe0yDG"
      },
      "execution_count": null,
      "outputs": []
    },
    {
      "cell_type": "code",
      "source": [
        "# Task 3\n",
        "# Write your code here."
      ],
      "metadata": {
        "id": "vUJwuUVLuRpV"
      },
      "execution_count": null,
      "outputs": []
    },
    {
      "cell_type": "markdown",
      "source": [
        "4. Converting Data Types\n",
        "\n",
        "Task: Convert a float (hourly_rate) into an integer to create a flat-rate pricing model. Then convert the integer back into a float to return to hourly billing.\n",
        "Practical Use Case: Adjust pricing models to meet client needs."
      ],
      "metadata": {
        "id": "5Q5VMJPKt8Le"
      }
    },
    {
      "cell_type": "code",
      "source": [
        "# Task 4 Code Example\n",
        "# Convert hourly rate to an integer\n",
        "flat_rate = int(hourly_rate)\n",
        "print(\"Flat rate:\", flat_rate, \"CHF\")\n",
        "\n",
        "# Convert back to a float\n",
        "hourly_rate = float(flat_rate)\n",
        "print(\"Hourly rate restored:\", hourly_rate, \"CHF\")"
      ],
      "metadata": {
        "id": "ffXxoffB1nhf"
      },
      "execution_count": null,
      "outputs": []
    },
    {
      "cell_type": "code",
      "source": [
        "# Task 4\n",
        "# Write your code here."
      ],
      "metadata": {
        "id": "D6IkCDSKuf__"
      },
      "execution_count": null,
      "outputs": []
    },
    {
      "cell_type": "markdown",
      "source": [
        "5. Creating and Modifying a List\n",
        "\n",
        "Task: Create a list called party_supplies that includes items like “balloons,” “plates,” and “napkins.” Add an item to the list (e.g., “streamers”) and remove an item (e.g., “napkins”).\n",
        "Practical Use Case: Keep track of the supplies needed for a party and update the list as you plan."
      ],
      "metadata": {
        "id": "qcQuG16nurQ2"
      }
    },
    {
      "cell_type": "code",
      "source": [
        "# Task 5 Code Example\n",
        "# Create and modify a list of party supplies\n",
        "party_supplies = [\"balloons\", \"plates\", \"napkins\"] #Write list in sq. brackets.\n",
        "print(\"Original list:\", party_supplies)\n",
        "\n",
        "# Add an item\n",
        "party_supplies.append(\"streamers\")\n",
        "print(\"After adding streamers:\", party_supplies)\n",
        "\n",
        "# Remove an item\n",
        "party_supplies.remove(\"napkins\")\n",
        "print(\"After removing napkins:\", party_supplies)"
      ],
      "metadata": {
        "id": "Cuz-JOn-2q0x"
      },
      "execution_count": null,
      "outputs": []
    },
    {
      "cell_type": "code",
      "source": [
        "# Task 5\n",
        "# Write your code here."
      ],
      "metadata": {
        "id": "u9AFIfUnu1_W"
      },
      "execution_count": null,
      "outputs": []
    },
    {
      "cell_type": "markdown",
      "source": [
        "6. Accessing and Manipulating a List\n",
        "\n",
        "Task: Access the first item in the party_supplies list and replace it with “custom invitations.” Print the updated list.\n",
        "Practical Use Case: Customize the supply list based on the client’s preferences."
      ],
      "metadata": {
        "id": "onq_TLkTuMXm"
      }
    },
    {
      "cell_type": "code",
      "source": [
        "# Task 6 Code Example\n",
        "# Access and modify items in the list\n",
        "party_supplies[0] = \"custom invitations\" #Index starts at 0.\n",
        "print(\"Updated list:\", party_supplies)"
      ],
      "metadata": {
        "id": "76SlnJK93O6q"
      },
      "execution_count": null,
      "outputs": []
    },
    {
      "cell_type": "code",
      "source": [
        "# Task 6\n",
        "# Write your code here."
      ],
      "metadata": {
        "id": "7g2V2585wbEa"
      },
      "execution_count": null,
      "outputs": []
    },
    {
      "cell_type": "markdown",
      "source": [
        "7. Creating a Dictionary\n",
        "\n",
        "Task: Create a dictionary called guest_list with guest names as keys and their RSVP status as values (e.g., {\"Aisha\": \"Yes\", \"Bob\": \"No\", \"Chen\": \"Yes\"}).\n",
        "Practical Use Case: Track RSVP statuses for events."
      ],
      "metadata": {
        "id": "X5gL9wbrwg4I"
      }
    },
    {
      "cell_type": "code",
      "source": [
        "# Task 7 Code Example\n",
        "# Create a dictionary of guests and their RSVP status. Use curly brackets and ,\n",
        "guest_list = {\n",
        "    \"Aisha\": \"Yes\",\n",
        "    \"Bob\": \"No\",\n",
        "    \"Chen\": \"Yes\"\n",
        "}\n",
        "print(\"Guest list:\", guest_list)"
      ],
      "metadata": {
        "id": "On2fCUbn5-Nc"
      },
      "execution_count": null,
      "outputs": []
    },
    {
      "cell_type": "code",
      "source": [
        "# Task 7\n",
        "# Write your code here."
      ],
      "metadata": {
        "id": "L5jMJgUGxKcE"
      },
      "execution_count": null,
      "outputs": []
    },
    {
      "cell_type": "markdown",
      "source": [
        "8. Manipulating a Dictionary\n",
        "\n",
        "Task: Update the RSVP status of a guest (e.g., change “Bob” to “Yes”), and add a new guest to the dictionary.\n",
        "Practical Use Case: Keep the guest list up to date as RSVPs change."
      ],
      "metadata": {
        "id": "yM_9tZPdxNJS"
      }
    },
    {
      "cell_type": "code",
      "source": [
        "# Task 8 Code Example\n",
        "# Update and add to the guest list\n",
        "guest_list[\"Bob\"] = \"Yes\"  # Update Bob's RSVP\n",
        "guest_list[\"Diana\"] = \"Yes\"  # Add a new guest\n",
        "print(\"Updated guest list:\", guest_list)"
      ],
      "metadata": {
        "id": "El1QvSql6kk2"
      },
      "execution_count": null,
      "outputs": []
    },
    {
      "cell_type": "code",
      "source": [
        "# Task 8\n",
        "# Write your code here."
      ],
      "metadata": {
        "id": "2nYetEySxfW1"
      },
      "execution_count": null,
      "outputs": []
    },
    {
      "cell_type": "markdown",
      "source": [
        "9. Using String Formatting\n",
        "\n",
        "Task: Create a message template for sending reminders to guests. Use string formatting to include each guest's name and a customized RSVP message (e.g., “Hi Aisha, just a reminder that you’ve RSVP’d ‘Yes’ for the party!”).\n",
        "Practical Use Case: Send personalized messages to clients or guests."
      ],
      "metadata": {
        "id": "241FsXsAxhta"
      }
    },
    {
      "cell_type": "code",
      "source": [
        "# Task 9 Code Example\n",
        "# String formatting for personalized messages\n",
        "for guest, rsvp in guest_list.items():\n",
        "    message = f\"Hi {guest}, just a reminder that you’ve RSVP’d ‘{rsvp}’ for the party!\"\n",
        "    print(message)"
      ],
      "metadata": {
        "id": "auv7kJVS7o6H"
      },
      "execution_count": null,
      "outputs": []
    },
    {
      "cell_type": "code",
      "source": [
        "# Task 9\n",
        "# Write your code here."
      ],
      "metadata": {
        "id": "Woo5EfrbxvX8"
      },
      "execution_count": null,
      "outputs": []
    },
    {
      "cell_type": "markdown",
      "source": [
        "10. Combining Everything in a Mini-Project\n",
        "\n",
        "Task: Use everything you’ve learned to calculate the total event cost for a client. Combine the hourly_rate, hours_worked, and the total cost of supplies (use a list to store the costs of supplies) to calculate the total_event_cost. Print a summary for the client with their event details.\n",
        "Practical Use Case: Provide clients with a professional cost breakdown for their event."
      ],
      "metadata": {
        "id": "S21l5e1gxz2E"
      }
    },
    {
      "cell_type": "code",
      "source": [
        "# Task 10 Code Example\n",
        "# Calculate total event cost\n",
        "supply_costs = [50, 20, 15]  # Example costs for decorations, food, and drinks in CHF\n",
        "total_supply_cost = sum(supply_costs)\n",
        "\n",
        "total_event_cost = (hourly_rate * hours_worked) + total_supply_cost\n",
        "print(f\"Client Summary:\\n- Total Event Cost: {total_event_cost} CHF\\n- Hourly Rate: {hourly_rate} CHF\\n- Supplies Cost: {total_supply_cost} CHF\")"
      ],
      "metadata": {
        "id": "KdEJm99I8I_2"
      },
      "execution_count": null,
      "outputs": []
    },
    {
      "cell_type": "code",
      "source": [
        "# Task 10\n",
        "# Write your code here."
      ],
      "metadata": {
        "id": "moqPuvyz8FF_"
      },
      "execution_count": null,
      "outputs": []
    },
    {
      "cell_type": "markdown",
      "source": [
        "Continuing the party planner problem statement, now we need to import the data and do our own calculations. You have a form on your website, with questions you utilize to generate a quotation for the party. You get the data as a csv file called \"party_data.csv\" every week. We will write a small program to make the calculations automatically\n",
        "\n",
        "\n",
        "\n"
      ],
      "metadata": {
        "id": "KCG9KPFLwp3q"
      }
    },
    {
      "cell_type": "code",
      "source": [
        "#Import the required libraries\n",
        "import pandas as pd"
      ],
      "metadata": {
        "id": "thpmqiHOwkLI"
      },
      "execution_count": null,
      "outputs": []
    },
    {
      "cell_type": "code",
      "source": [
        "#Make sure you add the \"party_data.csv\" file to the current files\n",
        "#Go to Files in left taskbar and upload the file\n",
        "#Add the data from \"party_data.csv\" file\n",
        "df_party = pd.read_csv('party_data.csv')\n",
        "df_party.head()"
      ],
      "metadata": {
        "id": "7In2yRN9w7Hi"
      },
      "execution_count": null,
      "outputs": []
    },
    {
      "cell_type": "code",
      "source": [
        "#Check the data\n",
        "df_party.info()"
      ],
      "metadata": {
        "id": "oah4C6tdw72s"
      },
      "execution_count": null,
      "outputs": []
    },
    {
      "cell_type": "markdown",
      "source": [
        "11. Checking the data for NA values"
      ],
      "metadata": {
        "id": "sN6XqG_I2B67"
      }
    },
    {
      "cell_type": "code",
      "source": [
        "#Task 11: Check if there are any NA values in the data and change it to \"None\"\n",
        "df_party.isnull().sum()"
      ],
      "metadata": {
        "id": "Wkh83Kk7xA_i"
      },
      "execution_count": null,
      "outputs": []
    },
    {
      "cell_type": "markdown",
      "source": [
        "If you find NA values, you have to clean the data, otherwise you will get errors during the calculations."
      ],
      "metadata": {
        "id": "nEWlkji_xEFg"
      }
    },
    {
      "cell_type": "code",
      "source": [
        "#Only NA values present in 2 columns which have string values, changing NA to \"None\"\n",
        "df_party = df_party.fillna(\"None\")\n",
        "df_party.info()"
      ],
      "metadata": {
        "id": "d-Hvg6SFxXKC"
      },
      "execution_count": null,
      "outputs": []
    },
    {
      "cell_type": "markdown",
      "source": [
        "12. Making a quotation for the party"
      ],
      "metadata": {
        "id": "hUf1PuIY2FDC"
      }
    },
    {
      "cell_type": "code",
      "source": [
        "## Task 12: Make a dataframe for cake type and cost of cake\n",
        "cake_data = {'Cake Type': ['Chocolate', 'Vanilla', 'Tarte citron', 'Strawberry', 'Tarte aux pruneaux', 'Cheesecake','Carrot'],\n",
        "             'Cost': [50, 45, 60, 55, 70, 80, 60]}\n",
        "\n",
        "df_cake = pd.DataFrame(cake_data)\n",
        "df_cake.head()"
      ],
      "metadata": {
        "id": "Qww5lMMCxdeu"
      },
      "execution_count": null,
      "outputs": []
    },
    {
      "cell_type": "code",
      "source": [
        "##Task 13: Make a dataframe for indoor and outdoor preference and respective cost\n",
        "pref_data = {'Party Preference': ['Indoor', 'Outdoor'],\n",
        "             'Cost': [500, 300]}\n",
        "\n",
        "df_pref = pd.DataFrame(pref_data)\n",
        "df_pref.head()"
      ],
      "metadata": {
        "id": "t5T5nhVcxgqZ"
      },
      "execution_count": null,
      "outputs": []
    },
    {
      "cell_type": "code",
      "source": [
        "##Task 14: Make a variable for per invitee charge\n",
        "invitee_charge = 5"
      ],
      "metadata": {
        "id": "nKrCefEFxjPx"
      },
      "execution_count": null,
      "outputs": []
    },
    {
      "cell_type": "markdown",
      "source": [
        "At this step, we will calculate the expenses for each party, which will include\n",
        "\n",
        "\n",
        "*   Cake cost\n",
        "*   Total invitees charge (no of invitees * charge per invitee)\n",
        "*   Cost for indoor/outdoor preference\n",
        "*   Cost of return gift\n",
        "*   Cost of Allergy\n",
        "*   Your fees and service tax\n",
        "\n"
      ],
      "metadata": {
        "id": "m7BsDfTyHMmX"
      }
    },
    {
      "cell_type": "code",
      "source": [
        "##Quotation = cost of cake + cost of invitees + indoor/outdoor preference + return gift cost if voted yes\n",
        "##Task 15: Start making the quotation, add cost of cake\n",
        "\n",
        "quote = 0\n",
        "name = df_party['Name'].iloc[0]\n",
        "#Get the cake type and cake cost for the selected name\n",
        "cake_type = df_party.loc[df_party['Name'] == name, 'Cake'].values[0]\n",
        "cake_cost = df_cake.loc[df_cake['Cake Type'] == cake_type, 'Cost'].values[0]\n",
        "quote = quote + cake_cost"
      ],
      "metadata": {
        "id": "k5ke51oWxxYB"
      },
      "execution_count": null,
      "outputs": []
    },
    {
      "cell_type": "code",
      "source": [
        "#Task 16: Add charges for invitees to the quote\n",
        "invitees = df_party.loc[df_party['Name'] == name, 'Invitees'].values[0]\n",
        "quote = quote + (invitees * invitee_charge)"
      ],
      "metadata": {
        "id": "VBh0D-YnJNBq"
      },
      "execution_count": null,
      "outputs": []
    },
    {
      "cell_type": "code",
      "source": [
        "#Task 17: Add cost for indoor/outdoor preference to the quote\n",
        "\n",
        "party_pref = df_party.loc[df_party['Name'] == name, 'Party Preference'].values[0]\n",
        "if party_pref == 'Indoor':\n",
        "    pref_cost = df_pref.loc[df_pref['Party Preference'] == 'Indoor', 'Cost'].values[0]\n",
        "    quote = quote + pref_cost\n",
        "elif party_pref == 'Outdoor':\n",
        "    pref_cost = df_pref.loc[df_pref['Party Preference'] == 'Outdoor', 'Cost'].values[0]\n",
        "    quote = quote + pref_cost"
      ],
      "metadata": {
        "id": "a7L24cafxy13"
      },
      "execution_count": null,
      "outputs": []
    },
    {
      "cell_type": "code",
      "source": [
        "##Task 18: Add return gift cost if voted \"yes\"\n",
        "return_gift = df_party.loc[df_party['Name'] == name, 'Return Gift'].values[0]\n",
        "return_gift_cost = df_party.loc[df_party['Name'] == name, 'Cost of Return Gift (CHF)'].values[0]\n",
        "if return_gift == 'Yes':\n",
        "    quote = quote + invitees * return_gift_cost"
      ],
      "metadata": {
        "id": "QK1aDd83x3EH"
      },
      "execution_count": null,
      "outputs": []
    },
    {
      "cell_type": "code",
      "source": [
        "##Task 19: Add CHF 50 for allergy has been mentioned\n",
        "allergies = df_party.loc[df_party['Name'] == name, 'Allergies'].values[0]\n",
        "if allergies != \"None\":\n",
        "    quote += 50\n"
      ],
      "metadata": {
        "id": "lVrhhVFSx61p"
      },
      "execution_count": null,
      "outputs": []
    },
    {
      "cell_type": "code",
      "source": [
        "##Task 20: Add 10% of the quote as your fees and 8% as Service Tax\n",
        "\n",
        "final_quote = quote * 1.18\n",
        "print(f\"Quotation for {name} is {final_quote} CHF\")"
      ],
      "metadata": {
        "id": "kFQaQ63Lx9hb"
      },
      "execution_count": null,
      "outputs": []
    },
    {
      "cell_type": "markdown",
      "source": [
        "For checking the quotation for each person, change iloc from 0 to 1,2,3...10. There are multiples tasks that can be added with respect to this data, for example,\n",
        "- Creating a for loop for iloc 0 to 10 and saving the quotations in a dataframe\n",
        "- Hours\n",
        "- Plot number of parties per month and income generated per month\n"
      ],
      "metadata": {
        "id": "WmfPkT5eyPpr"
      }
    },
    {
      "cell_type": "markdown",
      "source": [
        "Now, if we wish to work with dates, we can import a new library \"datetime\". We can use this library to check if RSVP date is 1 week before the party date."
      ],
      "metadata": {
        "id": "4YcBZ-5d0mCM"
      }
    },
    {
      "cell_type": "markdown",
      "source": [
        "13. Check the RSVP date"
      ],
      "metadata": {
        "id": "tWgmzpO215eP"
      }
    },
    {
      "cell_type": "code",
      "source": [
        "#Task 21: Check if RSVP date is 1 week before the party date\n",
        "#Check datetime documentation for the syntax and formats\n",
        "import datetime\n",
        "\n",
        "# Creating the dataframe for the two dates\n",
        "df_party['Party Date'] = pd.to_datetime(df_party['Party Date'], format='%d %B %Y')\n",
        "df_party['RSVP Date'] = pd.to_datetime(df_party['RSVP Date'], format='%d %B %Y')\n",
        "print(df_party['Party Date'])\n",
        "print(df_party['RSVP Date'])\n",
        "\n",
        "# Subtract the two dates to get the difference\n",
        "df_party['Date Difference'] = df_party['Party Date'] - df_party['RSVP Date']\n",
        "print(df_party['Date Difference'])\n",
        "print(df_party)"
      ],
      "metadata": {
        "id": "CnDWYrYp03NY"
      },
      "execution_count": null,
      "outputs": []
    },
    {
      "cell_type": "markdown",
      "source": [
        "To work on this problem more, you can create a new dataframe with revised RSVP date which is 1 week before the party date and add the names of the birthday person against it. You can imagine your own tasks which will make it more fun."
      ],
      "metadata": {
        "id": "dgRRY14G1JJL"
      }
    }
  ]
}