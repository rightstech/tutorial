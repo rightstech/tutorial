{
 "cells": [
     {
      "cell_type": "markdown",
      "metadata": {},
      "source": [
       "# Étude de cas - Titanic\n",
       "\n",
       "## Table des matières\n",
       "\n",
       "[**Étape 1 : Compréhension métier**](#Étape-1-:-Compréhension-métier)\n",
       "\n",
       "[**Étape 2 : Compréhension des données**](#Étape-2-:-Compréhension-des-données)\n",
       "\n",
       "- [**Chargement des données**](#Chargement-des-données)\n",
       "- [**Vérification de la qualité des données**](#Vérification-de-la-qualité-des-données)\n",
       "- [**Analyse exploratoire des données - AED**](#Analyse-exploratoire-des-données---AED)\n",
       " \n",
       "[**Étape 3 : Préparation des données**](#Étape-3-:-Préparation-des-données)\n",
       "- [**Traitement des données manquantes**](#Traitement-des-données-manquantes)\n",
       "- [**Ingénierie des caractéristiques**](#Ingénierie-des-caractéristiques)\n",
       "\n",
       "[**Étape 4 : Modélisation**](#Étape-4-:-Modélisation)"
      ]
     },
     {
      "cell_type": "markdown",
      "metadata": {},
      "source": [
       "## Étape 1 : Compréhension métier\n",
       "Cette phase initiale se concentre sur la compréhension des objectifs et des exigences du projet d'un point de vue métier, puis sur la conversion de cette connaissance en une définition du problème de data mining et un plan préliminaire conçu pour atteindre les objectifs.\n",
       "\n",
       "#### Histoire du Titanic\n",
       "Le naufrage du RMS Titanic est l'un des naufrages les plus tristement célèbres de l'histoire. Le 15 avril 1912, lors de son voyage inaugural, le Titanic a coulé après avoir heurté un iceberg, tuant 1502 personnes sur 2224 passagers et membres d'équipage. Cette tragédie sensationnelle a choqué la communauté internationale et conduit à de meilleures réglementations de sécurité pour les navires.\n",
       "\n",
       "L'une des raisons pour lesquelles le naufrage a entraîné une telle perte de vies humaines était qu'il n'y avait pas assez de canots de sauvetage pour les passagers et l'équipage. Bien qu'il y ait eu un élément de chance impliqué dans la survie au naufrage, certains groupes de personnes étaient plus susceptibles de survivre que d'autres, comme les femmes, les enfants et les passagers de la classe supérieure.\n",
       "\n",
       "#### Objectif\n",
       "Dans ce défi, nous allons compléter l'analyse des types de personnes susceptibles de survivre.\n",
       "\n",
       "De plus, nous construirons un modèle de régression pour prédire le prix du billet (Fare)."
      ]
     },
     {
      "cell_type": "markdown",
      "metadata": {},
      "source": [
       "## Étape 2 : Compréhension des données\n",
       "La phase de compréhension des données commence par une collecte initiale des données et se poursuit par des activités visant à se familiariser avec les données, à identifier les problèmes de qualité des données, à découvrir les premiers aperçus des données ou à détecter des sous-ensembles intéressants pour former des hypothèses sur les informations cachées. Cette étape est souvent mélangée avec l'étape suivante, la préparation des données."
      ]
     },
     {
      "cell_type": "markdown",
      "metadata": {},
      "source": [
       "### Dictionnaire des données\n",
       "Les données sont dans un fichier csv titanic.csv.\n",
       "\n",
       "| Variable | Définition | Clé |\n",
       "| --- | --- | --- |\n",
       "| survival | Survie | 0 = Non, 1 = Oui |\n",
       "| pclass | Classe de billet | 1 = 1ère, 2 = 2ème, 3 = 3ème |\n",
       "| sex | Sexe | male/female |\t\n",
       "| Age | Âge | en années |\n",
       "| sibsp | Nombre de frères et sœurs / conjoints à bord du Titanic | |\n",
       "| parch | Nombre de parents / enfants à bord du Titanic | |\n",
       "| ticket | Numéro de billet | |\n",
       "| fare | Tarif passager | |\n",
       "| cabin | Numéro de cabine | |\n",
       "| embarked | Port d'embarquement | C = Cherbourg, Q = Queenstown, S = Southampton |\n",
       "\n",
       "**Notes sur les variables**\n",
       "- pclass : Un indicateur du statut socio-économique (SES)\n",
       " - 1ère = Supérieure\n",
       " - 2ème = Moyenne\n",
       " - 3ème = Inférieure\n",
       "\n",
       "- age : L'âge est fractionnel s'il est inférieur à 1. Si l'âge est estimé, il est sous la forme de xx.5\n",
       "\n",
       "- sibsp : Le jeu de données définit les relations familiales de cette manière...\n",
       "- Frère ou sœur = frère, sœur, demi-frère, demi-sœur\n",
       "- Conjoint = mari, femme (les maîtresses et fiancés ont été ignorés)\n",
       "\n",
       "- parch : Le jeu de données définit les relations familiales de cette manière...\n",
       " - Parent = mère, père\n",
       " - Enfant = fille, fils, belle-fille, beau-fils\n",
       " - Certains enfants ont voyagé uniquement avec une nounou, donc parch=0 pour eux."
      ]
     },
     {
      "cell_type": "markdown",
      "metadata": {},
      "source": [
       "### Chargement des données\n",
       "\n",
       "Ce jeu de données est dans ```titanic.csv```. Assurez-vous que le fichier est dans le dossier actuel."
      ]
     },
     {
      "cell_type": "code",
      "execution_count": null,
      "metadata": {},
      "outputs": [],
      "source": [
       "import pandas as pd\n",
       "import matplotlib.pyplot as plt\n",
       "import piplite\n",
       "await piplite.install('seaborn')\n",
       "import seaborn as sns\n",
       "import warnings\n",
       "warnings.filterwarnings('ignore')\n",
       "%matplotlib inline"
      ]
     },
     {
      "cell_type": "code",
      "execution_count": null,
      "metadata": {},
      "outputs": [],
      "source": [
       "df_titanic = pd.read_csv('titanic.csv')\n",
       "df_titanic.head()"
      ]
     },
     {
        "cell_type": "markdown",
        "metadata": {},
        "source": [
         "### Vérification de la qualité des données\n",
         "Vérifiez la qualité des données. La vérification la plus courante consiste à contrôler les valeurs manquantes. Nous pouvons effectuer quelques nettoyages de base des données comme le nettoyage du champ de devise.\n",
         "- Vérifier les valeurs nulles\n",
         "- Le champ de devise doit être converti en float, supprimer '$' ou ',', parfois la valeur négative est entre ()\n"
        ]
       },
       {
        "cell_type": "markdown",
        "metadata": {},
        "source": [
         "##### Tâche 1 : Vérifier les informations de base du DataFrame\n",
         "\n",
         "Indice : utilisez la fonction info().\n",
         "Discutez des valeurs manquantes dans le dataframe."
        ]
       },
       {
        "cell_type": "code",
        "execution_count": null,
        "metadata": {
         "scrolled": false
        },
        "outputs": [],
        "source": [
         "df_titanic.info()"
        ]
       },
       {
        "cell_type": "code",
        "execution_count": null,
        "metadata": {},
        "outputs": [],
        "source": [
         "## Une autre façon de voir le nombre de valeurs manquantes dans chaque colonne\n",
         "\n",
         "df_titanic.isnull().sum()"
        ]
       },
       {
        "cell_type": "markdown",
        "metadata": {},
        "source": [
         "##### Tâche 2 : Nettoyer la colonne Fare, convertir en Float\n",
         "Supprimer le \"$\" de Fare, convertir le type de données en float."
        ]
       },
       {
        "cell_type": "code",
        "execution_count": null,
        "metadata": {
         "scrolled": true
        },
        "outputs": [],
        "source": [
         "# nettoyer Fare, convertir en float\n",
         "df_titanic.Fare = df_titanic.Fare.str.replace('$','')\n",
         "df_titanic['Fare'] = df_titanic.Fare.astype(float)\n",
         "df_titanic.head()"
        ]
       },
       {
        "cell_type": "markdown",
        "metadata": {},
        "source": [
         "##### Tâche 3 : Vérifier les statistiques des colonnes numériques\n",
         "\n",
         "Indice : utilisez la fonction describe().\n",
         "\n",
         "Discutez :\n",
         "- Les statistiques de Age, SibSp, Parch, Fare\n",
         "- Que signifie Survived ?"
        ]
       },
       {
        "cell_type": "code",
        "execution_count": null,
        "metadata": {
         "scrolled": true
        },
        "outputs": [],
        "source": [
         "df_titanic.describe()"
        ]
       },
       {
        "cell_type": "markdown",
        "metadata": {},
        "source": [
         "### Analyse exploratoire des données - AED\n",
         "L'AED est une approche pour analyser des ensembles de données afin de résumer leurs principales caractéristiques, souvent avec des méthodes visuelles.\n",
         "\n",
         "#### Types de caractéristiques\n",
         "##### Caractéristiques catégorielles :\n",
         "Une variable catégorielle est une variable qui a deux ou plusieurs catégories et chaque valeur dans cette caractéristique peut être catégorisée par elles. Par exemple, le sexe est une variable catégorielle ayant deux catégories (masculin et féminin). Nous ne pouvons pas trier ou donner un ordre à de telles variables. Elles sont également connues sous le nom de variables nominales.\n",
         "\n",
         "Caractéristiques catégorielles dans le jeu de données : Sex, Embarked.\n",
         "\n",
         "##### Caractéristique continue :\n",
         "Une caractéristique est dite continue si elle peut prendre des valeurs entre deux points ou entre les valeurs minimales et maximales de la colonne des caractéristiques.\n",
         "\n",
         "Caractéristiques continues dans le jeu de données : Fare"
        ]
       },
       {
        "cell_type": "markdown",
        "metadata": {},
        "source": [
         "### Caractéristiques catégorielles\n",
         "Nous analyserons Survived comme variable univariée. Relation entre Sex et Survival, Embarked et Survival.\n",
         "\n",
         "#### Combien ont survécu\n",
         "Diagramme en barres sur la colonne Survived. Il y a plusieurs façons de faire le diagramme en barres. Nous en démontrerons 2 ici, le countplot de seaborn et le bar de la série pandas."
        ]
       },
       {
        "cell_type": "markdown",
        "metadata": {},
        "source": [
         "##### Tâche 4 : Tracer un diagramme en barres pour Péris vs. Survécus\n",
         "Tracez un diagramme en barres pour la colonne Survived. Survived=0 signifie péri, Survived=1 signifie Survécu."
        ]
       },
       {
        "cell_type": "code",
        "execution_count": null,
        "metadata": {},
        "outputs": [],
        "source": [
         "#Combien ont survécu\n",
         "f,ax=plt.subplots(figsize=(5,5))\n",
         "sns.countplot(x='Survived',data=df_titanic, ax = ax)\n",
         "ax.set_title('Péris vs. Survécus')\n",
         "#Pas nécessaire, juste pour éliminer toute sortie\n",
         "plt.show()"
        ]
       },
       {
        "cell_type": "code",
        "execution_count": null,
        "metadata": {},
        "outputs": [],
        "source": [
         "#nombre de survivants\n",
         "f,ax=plt.subplots(figsize=(5,5))\n",
         "survived_counts = df_titanic.Survived.value_counts()\n",
         "survived_counts.plot.bar(ax=ax)\n",
         "ax.set_title('Péris vs. Survécus')\n",
         "plt.show()"
        ]
       },
       {
        "cell_type": "code",
        "execution_count": null,
        "metadata": {},
        "outputs": [],
        "source": [
         "#Pourcentage de survivants\n",
         "\n",
         "f,ax=plt.subplots(figsize=(5,5))\n",
         "survived_counts = df_titanic.Survived.value_counts(normalize=True)\n",
         "survived_counts.plot.bar(ax=ax)\n",
         "ax.set_title('Péris vs. Survécus')\n",
         "ax.set_xticklabels( ['Péris', 'Survécus'], rotation=0)\n",
         "plt.show()"
        ]
       },
       {
        "cell_type": "markdown",
        "metadata": {},
        "source": [
         "#### Relation entre Sexe et Survie\n",
         "Nous pouvons utiliser la fonction d'agrégation ou le tracé.\n",
         "\n",
         "Les 2 cellules suivantes démontrent la fonction d'agrégation.\n",
         "\n",
         "La cellule suivante démontre le diagramme en barres et le countplot.\n"
        ]
       },
       {
        "cell_type": "markdown",
        "metadata": {},
        "source": [
         "##### Tâche 5 : Tracer un diagramme en barres du nombre de passagers masculins et féminins\n",
         "\n",
         "Indice : Utilisez le countplot de seaborn."
        ]
       },
       {
        "cell_type": "code",
        "execution_count": null,
        "metadata": {},
        "outputs": [],
        "source": [
         "## Hommes vs. Femmes\n",
         "f,ax=plt.subplots(figsize=(5,5))\n",
         "sns.countplot(x='Sex',data=df_titanic,ax=ax)\n",
         "ax.set_title('Hommes vs. Femmes')\n",
         "plt.show()"
        ]
       },
       {
        "cell_type": "markdown",
        "metadata": {},
        "source": [
         "##### Tâche 6 : Grouper par Sexe pour trouver le taux de survie des hommes et des femmes"
        ]
       },
       {
        "cell_type": "code",
        "execution_count": null,
        "metadata": {},
        "outputs": [],
        "source": [
         "#taux de survie femme/homme\n",
         "df_titanic.groupby(['Sex'], as_index=False).agg({'Survived':'mean'})"
        ]
       },
       {
        "cell_type": "markdown",
        "metadata": {},
        "source": [
         "##### Tâche 7 : Tracer le diagramme en barres Péris vs. Survécus pour les hommes et les femmes\n",
         "Nous utiliserons à nouveau le countplot de seaborn, mais en définissant l'argument `hue` sur 'Survived'."
        ]
       },
       {
        "cell_type": "code",
        "execution_count": null,
        "metadata": {
         "scrolled": true
        },
        "outputs": [],
        "source": [
         "#Péris vs. Survécus pour hommes/femmes\n",
         "f,ax=plt.subplots(figsize=(5,5))\n",
         "sns.countplot(x='Sex',hue='Survived',data=df_titanic,ax=ax)\n",
         "ax.set_title('Genre : Péris vs. Survécus')\n",
         "plt.show()"
        ]
       },
       {
        "cell_type": "markdown",
        "metadata": {},
        "source": [
         "Le nombre d'hommes sur le navire est beaucoup plus élevé que le nombre de femmes. Pourtant, le nombre de femmes survivantes est presque deux fois plus élevé que le nombre d'hommes survivants. La majorité des femmes ont survécu tandis que la grande majorité des hommes ont péri."
        ]
       },
       {
        "cell_type": "markdown",
        "metadata": {},
        "source": [
         "#### Pclass et Survie\n",
         "##### Tâche 8 : Lister le taux de survie de chaque Pclass "
        ]
       },
       {
        "cell_type": "code",
        "execution_count": null,
        "metadata": {},
        "outputs": [],
        "source": [
         "df_titanic.groupby(['Pclass'], as_index=False).agg({'Survived':'mean'})"
        ]
       },
       {
        "cell_type": "markdown",
        "metadata": {},
        "source": [
         "##### Tâche 9 : Tracer Péris vs. Survécus pour chaque Pclass"
        ]
       },
       {
        "cell_type": "code",
        "execution_count": null,
        "metadata": {
         "scrolled": true
        },
        "outputs": [],
        "source": [
         "# diagramme en barres et countplot de seaborn\n",
         "f,ax=plt.subplots(figsize=(5,5))\n",
         "sns.countplot(x='Pclass',hue='Survived',data=df_titanic,ax=ax)\n",
         "ax.set_title('Pclass : Péris vs. Survécus')\n",
         "plt.show()"
        ]
       },

       {
        "cell_type": "markdown",
        "metadata": {},
        "source": [
         "##### Tâche 10 : Tracer l'histogramme pour l'Age\n",
         "Utilisez la fonction hist() de la série pandas qui gère les valeurs manquantes."
        ]
       },
       {
        "cell_type": "code",
        "execution_count": null,
        "metadata": {},
        "outputs": [],
        "source": [
         "# utiliser dataframe hist() qui gérera les NaN par défaut\n",
         "fig, ax = plt.subplots()\n",
         "df_titanic.Age.hist(ax=ax, bins=20, edgecolor='black', alpha=0.5)"
        ]
       },
       {
        "cell_type": "markdown",
        "metadata": {},
        "source": [
         "##### Tâche 11 : Empiler l'histogramme d'âge des survivants sur l'histogramme d'âge global\n",
         "Tracez l'histogramme pour l'Age, puis filtrez les passagers survivants et tracez l'histogramme pour l'Age sur le même axe. Définissez une couleur et une étiquette différentes."
        ]
       },
       {
        "cell_type": "code",
        "execution_count": null,
        "metadata": {
         "scrolled": false
        },
        "outputs": [],
        "source": [
         "# Utiliser dataframe hist() qui gérera les NaN par défaut\n",
         "fig, ax = plt.subplots()\n",
         "df_titanic.Age.hist(ax=ax, label='tous', bins=20, edgecolor='black', alpha=0.5)\n",
         "# Empiler survivants vs tous\n",
         "df_titanic[df_titanic.Survived==1].Age.hist(ax=ax, bins=20, color='g', label='survivants', edgecolor='black', alpha=0.5)\n",
         "ax.set_title('Distribution des Ages')\n",
         "ax.legend()"
        ]
       },
       {
        "cell_type": "markdown",
        "metadata": {},
        "source": [
         "Les enfants ont un taux de survie plus élevé."
        ]
       },
       {
        "cell_type": "markdown",
        "metadata": {},
        "source": [
         "[Retour en haut](#Table-des-matières)\n",
         "\n",
         "## Étape 3 : Préparation des données\n",
         "Créer de nouvelles caractéristiques par l'ingénierie des caractéristiques ; Traiter les valeurs manquantes ; Nettoyer les données, c'est-à-dire supprimer les espaces blancs supplémentaires dans les valeurs de chaîne. Nous nous concentrerons sur le traitement des données manquantes dans cette phase."
        ]
       },
       {
        "cell_type": "code",
        "execution_count": null,
        "metadata": {
         "scrolled": true
        },
        "outputs": [],
        "source": [
         "# Vérifier toutes les données manquantes\n",
         "df_titanic.isnull().sum()"
        ]
       },
       {
        "cell_type": "markdown",
        "metadata": {},
        "source": [
         "### Traiter les données manquantes\n",
         "Nous allons démontrer le remplissage avec la moyenne/le mode et l'estimation à partir d'autres colonnes.\n",
         "\n",
         "#### Remplir avec la moyenne/le mode\n",
         "`Embarked` n'a que 2 valeurs manquantes et il n'y a pas de moyen évident d'estimer la valeur manquante, nous allons simplement la remplir avec le mode de la colonne, ou 'S'"
        ]
       },
       {
        "cell_type": "markdown",
        "metadata": {},
        "source": [
         "##### Tâche 12 : Remplir les valeurs manquantes de Embarked avec le mode"
        ]
       },
       {
        "cell_type": "code",
        "execution_count": null,
        "metadata": {},
        "outputs": [],
        "source": [
         "# remplir NaN dans Embarked avec le mode\n",
         "df_titanic['Embarked'].fillna(df_titanic.Embarked.mode()[0],inplace=True)\n",
         "df_titanic.info()"
        ]
       },
       {
        "cell_type": "markdown",
        "metadata": {
         "collapsed": true
        },
        "source": [
         "#### Remplir avec une valeur estimée\n",
         "\n",
         "Un titre est un mot utilisé dans le nom d'une personne, dans certains contextes. Il peut signifier soit une vénération, une position officielle, ou une qualification professionnelle ou académique. C'est une bonne indication de l'âge, par exemple, M. est pour un homme adulte, Master est pour les jeunes garçons.\n",
         "\n",
         "Si nous regardons tous les noms des passagers du Titanic, nous pouvons voir que le nom est au format Nom, Titre. Prénom. Nous pouvons utiliser cette information pour estimer les âges manquants.\n",
         "\n",
         "- D'abord, nous utiliserons une expression régulière pour extraire le titre du nom.\n",
         "- Ensuite, nous convertirons le titre en majuscules.\n",
         "- Puis nous remplirons l'âge manquant avec l'âge moyen du titre spécifique."
        ]
       },
       {
        "cell_type": "code",
        "execution_count": null,
        "metadata": {},
        "outputs": [],
        "source": [
         "# extraire le préfixe du nom\n",
         "df_titanic['Title']=df_titanic.Name.str.extract('([A-Za-z]+\\.)')\n",
         "df_titanic.head()"
        ]
       },
       {
        "cell_type": "markdown",
        "metadata": {},
        "source": [
         "##### Tâche 13 : convertir le titre en majuscules.\n",
         "Pour s'assurer d'obtenir l'âge moyen précis de chaque titre, nous convertissons le titre en tout majuscules."
        ]
       },
       {
        "cell_type": "code",
        "execution_count": null,
        "metadata": {
         "scrolled": true
        },
        "outputs": [],
        "source": [
         "df_titanic.Title = df_titanic.Title.str.upper()\n",
         "df_titanic.head()"
        ]
       },
       {
        "cell_type": "markdown",
        "metadata": {},
        "source": [
         "##### Tâche 14 : Remplir l'âge manquant avec l'âge moyen du titre"
        ]
       },
       {
        "cell_type": "code",
        "execution_count": null,
        "metadata": {},
        "outputs": [],
        "source": [
         "df_titanic.Title.value_counts()"
        ]
       },
       {
        "cell_type": "code",
        "execution_count": null,
        "metadata": {},
        "outputs": [],
        "source": [
         "df_titanic.Age.fillna(df_titanic.groupby('Title').Age.transform('mean'), inplace=True)\n",
         "df_titanic.info()"
        ]
       },
       {
        "cell_type": "markdown",
        "metadata": {},
        "source": [
         "### Ingénierie des caractéristiques\n",
         "Nous allons créer une nouvelle colonne FamilySize. Il y a 2 colonnes liées à la taille de la famille, parch indique le nombre de parents ou d'enfants, Sibsp indique le nombre de frères et sœurs et d'époux.\n",
         "\n",
         "Prenons un nom 'Asplund' comme exemple, nous pouvons voir que la taille totale de la famille est de 7 (Parch + SibSp + 1), et chaque membre de la famille a la même valeur de Fare, ce qui signifie que le Fare est pour tout le groupe. Donc la taille de la famille sera une caractéristique importante pour prédire le Fare. Il n'y a que 4 Asplunds sur 7 dans le dataset car le dataset n'est qu'un sous-ensemble de tous les passagers."
        ]
       },
       {
        "cell_type": "code",
        "execution_count": null,
        "metadata": {
         "scrolled": false
        },
        "outputs": [],
        "source": [
         "df_titanic[df_titanic.Name.str.contains('Asplund')]"
        ]
       },
       {
        "cell_type": "markdown",
        "metadata": {},
        "source": [
         "##### Tâche 15 : Créer la colonne 'FamilySize'\n",
         "FamilySize = Parch + SibSp + 1"
        ]
       },
       {
        "cell_type": "code",
        "execution_count": null,
        "metadata": {
         "scrolled": true
        },
        "outputs": [],
        "source": [
         "df_titanic['FamilySize'] = df_titanic.Parch + df_titanic.SibSp + 1\n",
         "df_titanic.sample(5)"
        ]
       }
  {
   "cell_type": "markdown",
   "metadata": {},
   "source": [
    "### Vérification de la qualité des données\n",
    "Vérifiez la qualité des données. La vérification la plus courante consiste à contrôler les valeurs manquantes. Nous pouvons effectuer quelques nettoyages de base des données comme le nettoyage du champ de devise.\n",
    "- Vérifier les valeurs nulles\n",
    "- Le champ de devise doit être converti en float, supprimer '$' ou ',', parfois la valeur négative est entre ()\n"
   ]
  },
  {
   "cell_type": "markdown",
   "metadata": {},
   "source": [
    "##### Tâche 1 : Vérifier les informations de base du DataFrame\n",
    "\n",
    "Indice : utilisez la fonction info().\n",
    "Discutez des valeurs manquantes dans le dataframe."
   ]
  },
  {
   "cell_type": "code",
   "execution_count": null,
   "metadata": {
    "scrolled": false
   },
   "outputs": [],
   "source": [
    "df_titanic.info()"
   ]
  },
  {
   "cell_type": "code",
   "execution_count": null,
   "metadata": {},
   "outputs": [],
   "source": [
    "## Une autre façon de voir le nombre de valeurs manquantes dans chaque colonne\n",
    "\n",
    "df_titanic.isnull().sum()"
   ]
  },
  {
   "cell_type": "markdown",
   "metadata": {},
   "source": [
    "##### Tâche 2 : Nettoyer la colonne Fare, convertir en Float\n",
    "Supprimer le \"$\" de Fare, convertir le type de données en float."
   ]
  },
  {
   "cell_type": "code",
   "execution_count": null,
   "metadata": {
    "scrolled": true
   },
   "outputs": [],
   "source": [
    "# nettoyer Fare, convertir en float\n",
    "df_titanic.Fare = df_titanic.Fare.str.replace('$','')\n",
    "df_titanic['Fare'] = df_titanic.Fare.astype(float)\n",
    "df_titanic.head()"
   ]
  },
  {
   "cell_type": "markdown",
   "metadata": {},
   "source": [
    "##### Tâche 3 : Vérifier les statistiques des colonnes numériques\n",
    "\n",
    "Indice : utilisez la fonction describe().\n",
    "\n",
    "Discutez :\n",
    "- Les statistiques de Age, SibSp, Parch, Fare\n",
    "- Que signifie Survived ?"
   ]
  },
  {
   "cell_type": "code",
   "execution_count": null,
   "metadata": {
    "scrolled": true
   },
   "outputs": [],
   "source": [
    "df_titanic.describe()"
   ]
  },
  {
   "cell_type": "markdown",
   "metadata": {},
   "source": [
    "### Analyse exploratoire des données - AED\n",
    "L'AED est une approche pour analyser des ensembles de données afin de résumer leurs principales caractéristiques, souvent avec des méthodes visuelles.\n",
    "\n",
    "#### Types de caractéristiques\n",
    "##### Caractéristiques catégorielles :\n",
    "Une variable catégorielle est une variable qui a deux ou plusieurs catégories et chaque valeur dans cette caractéristique peut être catégorisée par elles. Par exemple, le sexe est une variable catégorielle ayant deux catégories (masculin et féminin). Nous ne pouvons pas trier ou donner un ordre à de telles variables. Elles sont également connues sous le nom de variables nominales.\n",
    "\n",
    "Caractéristiques catégorielles dans le jeu de données : Sex, Embarked.\n",
    "\n",
    "##### Caractéristique continue :\n",
    "Une caractéristique est dite continue si elle peut prendre des valeurs entre deux points ou entre les valeurs minimales et maximales de la colonne des caractéristiques.\n",
    "\n",
    "Caractéristiques continues dans le jeu de données : Fare"
   ]
  },
  {
   "cell_type": "markdown",
   "metadata": {},
   "source": [
    "### Caractéristiques catégorielles\n",
    "Nous analyserons Survived comme variable univariée. Relation entre Sex et Survival, Embarked et Survival.\n",
    "\n",
    "#### Combien ont survécu\n",
    "Diagramme en barres sur la colonne Survived. Il y a plusieurs façons de faire le diagramme en barres. Nous en démontrerons 2 ici, le countplot de seaborn et le bar de la série pandas."
   ]
  },
  {
   "cell_type": "markdown",
   "metadata": {},
   "source": [
    "##### Tâche 4 : Tracer un diagramme en barres pour Péris vs. Survécus\n",
    "Tracez un diagramme en barres pour la colonne Survived. Survived=0 signifie péri, Survived=1 signifie Survécu."
   ]
  },
  {
   "cell_type": "code",
   "execution_count": null,
   "metadata": {},
   "outputs": [],
   "source": [
    "#Combien ont survécu\n",
    "f,ax=plt.subplots(figsize=(5,5))\n",
    "sns.countplot(x='Survived',data=df_titanic, ax = ax)\n",
    "ax.set_title('Péris vs. Survécus')\n",
    "#Pas nécessaire, juste pour éliminer toute sortie\n",
    "plt.show()"
   ]
  },
  {
   "cell_type": "code",
   "execution_count": null,
   "metadata": {},
   "outputs": [],
   "source": [
    "#nombre de survivants\n",
    "f,ax=plt.subplots(figsize=(5,5))\n",
    "survived_counts = df_titanic.Survived.value_counts()\n",
    "survived_counts.plot.bar(ax=ax)\n",
    "ax.set_title('Péris vs. Survécus')\n",
    "plt.show()"
   ]
  },
  {
   "cell_type": "code",
   "execution_count": null,
   "metadata": {},
   "outputs": [],
   "source": [
    "#Pourcentage de survivants\n",
    "\n",
    "f,ax=plt.subplots(figsize=(5,5))\n",
    "survived_counts = df_titanic.Survived.value_counts(normalize=True)\n",
    "survived_counts.plot.bar(ax=ax)\n",
    "ax.set_title('Péris vs. Survécus')\n",
    "ax.set_xticklabels( ['Péris', 'Survécus'], rotation=0)\n",
    "plt.show()"
   ]
  },
  {
   "cell_type": "markdown",
   "metadata": {},
   "source": [
    "#### Relation entre Sexe et Survie\n",
    "Nous pouvons utiliser la fonction d'agrégation ou le tracé.\n",
    "\n",
    "Les 2 cellules suivantes démontrent la fonction d'agrégation.\n",
    "\n",
    "La cellule suivante démontre le diagramme en barres et le countplot.\n"
   ]
  },
  {
   "cell_type": "markdown",
   "metadata": {},
   "source": [
    "##### Tâche 5 : Tracer un diagramme en barres du nombre de passagers masculins et féminins\n",
    "\n",
    "Indice : Utilisez le countplot de seaborn."
   ]
  },
  {
   "cell_type": "code",
   "execution_count": null,
   "metadata": {},
   "outputs": [],
   "source": [
    "## Hommes vs. Femmes\n",
    "f,ax=plt.subplots(figsize=(5,5))\n",
    "sns.countplot(x='Sex',data=df_titanic,ax=ax)\n",
    "ax.set_title('Hommes vs. Femmes')\n",
    "plt.show()"
   ]
  },
  {
   "cell_type": "markdown",
   "metadata": {},
   "source": [
    "##### Tâche 6 : Grouper par Sexe pour trouver le taux de survie des hommes et des femmes"
   ]
  },
  {
   "cell_type": "code",
   "execution_count": null,
   "metadata": {},
   "outputs": [],
   "source": [
    "#taux de survie femme/homme\n",
    "df_titanic.groupby(['Sex'], as_index=False).agg({'Survived':'mean'})"
   ]
  },
  {
   "cell_type": "markdown",
   "metadata": {},
   "source": [
    "##### Tâche 7 : Tracer le diagramme en barres Péris vs. Survécus pour les hommes et les femmes\n",
    "Nous utiliserons à nouveau le countplot de seaborn, mais en définissant l'argument `hue` sur 'Survived'."
   ]
  },
  {
   "cell_type": "code",
   "execution_count": null,
   "metadata": {
    "scrolled": true
   },
   "outputs": [],
   "source": [
    "#Péris vs. Survécus pour hommes/femmes\n",
    "f,ax=plt.subplots(figsize=(5,5))\n",
    "sns.countplot(x='Sex',hue='Survived',data=df_titanic,ax=ax)\n",
    "ax.set_title('Genre : Péris vs. Survécus')\n",
    "plt.show()"
   ]
  },
  {
   "cell_type": "markdown",
   "metadata": {},
   "source": [
    "Le nombre d'hommes sur le navire est beaucoup plus élevé que le nombre de femmes. Pourtant, le nombre de femmes survivantes est presque deux fois plus élevé que le nombre d'hommes survivants. La majorité des femmes ont survécu tandis que la grande majorité des hommes ont péri."
   ]
  },
  {
   "cell_type": "markdown",
   "metadata": {},
   "source": [
    "#### Pclass et Survie\n",
    "##### Tâche 8 : Lister le taux de survie de chaque Pclass "
   ]
  },
  {
   "cell_type": "code",
   "execution_count": null,
   "metadata": {},
   "outputs": [],
   "source": [
    "df_titanic.groupby(['Pclass'], as_index=False).agg({'Survived':'mean'})"
   ]
  },
  {
   "cell_type": "markdown",
   "metadata": {},
   "source": [
    "##### Tâche 9 : Tracer Péris vs. Survécus pour chaque Pclass"
   ]
  },
  {
   "cell_type": "code",
   "execution_count": null,
   "metadata": {
    "scrolled": true
   },
   "outputs": [],
   "source": [
    "# diagramme en barres et countplot de seaborn\n",
    "f,ax=plt.subplots(figsize=(5,5))\n",
    "sns.countplot(x='Pclass',hue='Survived',data=df_titanic,ax=ax)\n",
    "ax.set_title('Pclass : Péris vs. Survécus')\n",
    "plt.show()"
   ]
  },
  {
    "cell_type": "markdown",
    "metadata": {},
    "source": [
     "### Caractéristiques continues\n"
    ]
   },
   {
    "cell_type": "markdown",
    "metadata": {},
    "source": [
     "#### Tracé de distribution univariée\n",
     "Il existe plusieurs façons de faire un histogramme. Je vais en démontrer 3.\n",
     "- ax.hist() : ne peut pas gérer les valeurs NaN\n",
     "- seaborn.distplot() : ne peut pas gérer les NaN. A KDE (estimation de densité de noyau) par défaut.\n",
     "- pd.Series.hist() : le plus simple et peut gérer les NaN par défaut"
    ]
   },
  {
   "cell_type": "markdown",
   "metadata": {},
   "source": [
    "##### Tâche 10 : Tracer l'histogramme pour l'Age\n",
    "Utilisez la fonction hist() de la série pandas qui gère les valeurs manquantes."
   ]
  },
  {
   "cell_type": "code",
   "execution_count": null,
   "metadata": {},
   "outputs": [],
   "source": [
    "# utiliser dataframe hist() qui gérera les NaN par défaut\n",
    "fig, ax = plt.subplots()\n",
    "df_titanic.Age.hist(ax=ax, bins=20, edgecolor='black', alpha=0.5)"
   ]
  },
  {
   "cell_type": "markdown",
   "metadata": {},
   "source": [
    "##### Tâche 11 : Empiler l'histogramme d'âge des survivants sur l'histogramme d'âge global\n",
    "Tracez l'histogramme pour l'Age, puis filtrez les passagers survivants et tracez l'histogramme pour l'Age sur le même axe. Définissez une couleur et une étiquette différentes."
   ]
  },
  {
   "cell_type": "code",
   "execution_count": null,
   "metadata": {
    "scrolled": false
   },
   "outputs": [],
   "source": [
    "# Utiliser dataframe hist() qui gérera les NaN par défaut\n",
    "fig, ax = plt.subplots()\n",
    "df_titanic.Age.hist(ax=ax, label='tous', bins=20, edgecolor='black', alpha=0.5)\n",
    "# Empiler survivants vs tous\n",
    "df_titanic[df_titanic.Survived==1].Age.hist(ax=ax, bins=20, color='g', label='survivants', edgecolor='black', alpha=0.5)\n",
    "ax.set_title('Distribution des Ages')\n",
    "ax.legend()"
   ]
  },
  {
   "cell_type": "markdown",
   "metadata": {},
   "source": [
    "Les enfants ont un taux de survie plus élevé."
   ]
  },
  {
   "cell_type": "markdown",
   "metadata": {},
   "source": [
    "[Retour en haut](#Table-des-matières)\n",
    "\n",
    "## Étape 3 : Préparation des données\n",
    "Créer de nouvelles caractéristiques par l'ingénierie des caractéristiques ; Traiter les valeurs manquantes ; Nettoyer les données, c'est-à-dire supprimer les espaces blancs supplémentaires dans les valeurs de chaîne. Nous nous concentrerons sur le traitement des données manquantes dans cette phase."
   ]
  },
  {
   "cell_type": "code",
   "execution_count": null,
   "metadata": {
    "scrolled": true
   },
   "outputs": [],
   "source": [
    "# Vérifier toutes les données manquantes\n",
    "df_titanic.isnull().sum()"
   ]
  },
  {
   "cell_type": "markdown",
   "metadata": {},
   "source": [
    "### Traiter les données manquantes\n",
    "Nous allons démontrer le remplissage avec la moyenne/le mode et l'estimation à partir d'autres colonnes.\n",
    "\n",
    "#### Remplir avec la moyenne/le mode\n",
    "`Embarked` n'a que 2 valeurs manquantes et il n'y a pas de moyen évident d'estimer la valeur manquante, nous allons simplement la remplir avec le mode de la colonne, ou 'S'"
   ]
  },
  {
   "cell_type": "markdown",
   "metadata": {},
   "source": [
    "##### Tâche 12 : Remplir les valeurs manquantes de Embarked avec le mode"
   ]
  },
  {
   "cell_type": "code",
   "execution_count": null,
   "metadata": {},
   "outputs": [],
   "source": [
    "# remplir NaN dans Embarked avec le mode\n",
    "df_titanic['Embarked'].fillna(df_titanic.Embarked.mode()[0],inplace=True)\n",
    "df_titanic.info()"
   ]
  },
  {
   "cell_type": "markdown",
   "metadata": {
    "collapsed": true
   },
   "source": [
    "#### Remplir avec une valeur estimée\n",
    "\n",
    "Un titre est un mot utilisé dans le nom d'une personne, dans certains contextes. Il peut signifier soit une vénération, une position officielle, ou une qualification professionnelle ou académique. C'est une bonne indication de l'âge, par exemple, M. est pour un homme adulte, Master est pour les jeunes garçons.\n",
    "\n",
    "Si nous regardons tous les noms des passagers du Titanic, nous pouvons voir que le nom est au format Nom, Titre. Prénom. Nous pouvons utiliser cette information pour estimer les âges manquants.\n",
    "\n",
    "- D'abord, nous utiliserons une expression régulière pour extraire le titre du nom.\n",
    "- Ensuite, nous convertirons le titre en majuscules.\n",
    "- Puis nous remplirons l'âge manquant avec l'âge moyen du titre spécifique."
   ]
  },
  {
   "cell_type": "code",
   "execution_count": null,
   "metadata": {},
   "outputs": [],
   "source": [
    "# extraire le préfixe du nom\n",
    "df_titanic['Title']=df_titanic.Name.str.extract('([A-Za-z]+\\.)')\n",
    "df_titanic.head()"
   ]
  },
  {
   "cell_type": "markdown",
   "metadata": {},
   "source": [
    "##### Tâche 13 : convertir le titre en majuscules.\n",
    "Pour s'assurer d'obtenir l'âge moyen précis de chaque titre, nous convertissons le titre en tout majuscules."
   ]
  },
  {
   "cell_type": "code",
   "execution_count": null,
   "metadata": {
    "scrolled": true
   },
   "outputs": [],
   "source": [
    "df_titanic.Title = df_titanic.Title.str.upper()\n",
    "df_titanic.head()"
   ]
  },
  {
   "cell_type": "markdown",
   "metadata": {},
   "source": [
    "##### Tâche 14 : Remplir l'âge manquant avec l'âge moyen du titre"
   ]
  },
  {
   "cell_type": "code",
   "execution_count": null,
   "metadata": {},
   "outputs": [],
   "source": [
    "df_titanic.Title.value_counts()"
   ]
  },
  {
   "cell_type": "code",
   "execution_count": null,
   "metadata": {},
   "outputs": [],
   "source": [
    "df_titanic.Age.fillna(df_titanic.groupby('Title').Age.transform('mean'), inplace=True)\n",
    "df_titanic.info()"
   ]
  },
  {
   "cell_type": "markdown",
   "metadata": {},
   "source": [
    "### Ingénierie des caractéristiques\n",
    "Nous allons créer une nouvelle colonne FamilySize. Il y a 2 colonnes liées à la taille de la famille, parch indique le nombre de parents ou d'enfants, Sibsp indique le nombre de frères et sœurs et d'époux.\n",
    "\n",
    "Prenons un nom 'Asplund' comme exemple, nous pouvons voir que la taille totale de la famille est de 7 (Parch + SibSp + 1), et chaque membre de la famille a la même valeur de Fare, ce qui signifie que le Fare est pour tout le groupe. Donc la taille de la famille sera une caractéristique importante pour prédire le Fare. Il n'y a que 4 Asplunds sur 7 dans le dataset car le dataset n'est qu'un sous-ensemble de tous les passagers."
   ]
  },
  {
   "cell_type": "code",
   "execution_count": null,
   "metadata": {
    "scrolled": false
   },
   "outputs": [],
   "source": [
    "df_titanic[df_titanic.Name.str.contains('Asplund')]"
   ]
  },
  {
   "cell_type": "markdown",
   "metadata": {},
   "source": [
    "##### Tâche 15 : Créer la colonne 'FamilySize'\n",
    "FamilySize = Parch + SibSp + 1"
   ]
  },
  {
   "cell_type": "code",
   "execution_count": null,
   "metadata": {
    "scrolled": true
   },
   "outputs": [],
   "source": [
    "df_titanic['FamilySize'] = df_titanic.Parch + df_titanic.SibSp + 1\n",
    "df_titanic.sample(5)"
   ]
  }
 ],
 "metadata": {
  "kernelspec": {
   "display_name": "Python 3",
   "language": "python",
   "name": "python3"
  },
  "language_info": {
   "codemirror_mode": {
    "name": "ipython",
    "version": 3
   },
   "file_extension": ".py",
   "mimetype": "text/x-python",
   "name": "python",
   "nbconvert_exporter": "python",
   "pygments_lexer": "ipython3",
   "version": "3.7.1"
  }
 },
 "nbformat": 4,
 "nbformat_minor": 2
}
